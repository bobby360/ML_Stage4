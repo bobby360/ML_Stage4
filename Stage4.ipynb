{
  "nbformat": 4,
  "nbformat_minor": 0,
  "metadata": {
    "colab": {
      "name": "Stage4.ipynb",
      "provenance": [],
      "collapsed_sections": [],
      "include_colab_link": true
    },
    "kernelspec": {
      "name": "python3",
      "display_name": "Python 3"
    }
  },
  "cells": [
    {
      "cell_type": "markdown",
      "metadata": {
        "id": "view-in-github",
        "colab_type": "text"
      },
      "source": [
        "<a href=\"https://colab.research.google.com/github/bobby360/ML_Stage4/blob/master/Stage4.ipynb\" target=\"_parent\"><img src=\"https://colab.research.google.com/assets/colab-badge.svg\" alt=\"Open In Colab\"/></a>"
      ]
    },
    {
      "cell_type": "markdown",
      "metadata": {
        "id": "EqnkJ3lXN2x4",
        "colab_type": "text"
      },
      "source": [
        "Setting up kaggle."
      ]
    },
    {
      "cell_type": "code",
      "metadata": {
        "id": "24iY5dPnXUy0",
        "colab_type": "code",
        "outputId": "3e4af160-2589-434d-8605-b7780e13cd0d",
        "colab": {
          "base_uri": "https://localhost:8080/",
          "height": 214
        }
      },
      "source": [
        "#Setting up Kaggle\n",
        "!pip install kaggle\n",
        "!mkdir .kaggle\n",
        "import json\n",
        "token = {\"username\":\"bobbyml\",\"key\":\"ac9a2a8daab26dce1c864312a6705acf\"}\n",
        "with open('/content/.kaggle/kaggle.json', 'w') as file:\n",
        "    json.dump(token, file)"
      ],
      "execution_count": 0,
      "outputs": [
        {
          "output_type": "stream",
          "text": [
            "Requirement already satisfied: kaggle in /usr/local/lib/python3.6/dist-packages (1.5.6)\n",
            "Requirement already satisfied: python-dateutil in /usr/local/lib/python3.6/dist-packages (from kaggle) (2.5.3)\n",
            "Requirement already satisfied: requests in /usr/local/lib/python3.6/dist-packages (from kaggle) (2.21.0)\n",
            "Requirement already satisfied: tqdm in /usr/local/lib/python3.6/dist-packages (from kaggle) (4.28.1)\n",
            "Requirement already satisfied: urllib3<1.25,>=1.21.1 in /usr/local/lib/python3.6/dist-packages (from kaggle) (1.24.3)\n",
            "Requirement already satisfied: six>=1.10 in /usr/local/lib/python3.6/dist-packages (from kaggle) (1.12.0)\n",
            "Requirement already satisfied: certifi in /usr/local/lib/python3.6/dist-packages (from kaggle) (2019.9.11)\n",
            "Requirement already satisfied: python-slugify in /usr/local/lib/python3.6/dist-packages (from kaggle) (3.0.4)\n",
            "Requirement already satisfied: chardet<3.1.0,>=3.0.2 in /usr/local/lib/python3.6/dist-packages (from requests->kaggle) (3.0.4)\n",
            "Requirement already satisfied: idna<2.9,>=2.5 in /usr/local/lib/python3.6/dist-packages (from requests->kaggle) (2.8)\n",
            "Requirement already satisfied: text-unidecode>=1.3 in /usr/local/lib/python3.6/dist-packages (from python-slugify->kaggle) (1.3)\n",
            "mkdir: cannot create directory ‘.kaggle’: File exists\n"
          ],
          "name": "stdout"
        }
      ]
    },
    {
      "cell_type": "code",
      "metadata": {
        "id": "alsUmKMaZdAt",
        "colab_type": "code",
        "colab": {}
      },
      "source": [
        "!cp /content/.kaggle/kaggle.json ~/.kaggle/kaggle.json"
      ],
      "execution_count": 0,
      "outputs": []
    },
    {
      "cell_type": "code",
      "metadata": {
        "id": "jNa8vzIlXPl1",
        "colab_type": "code",
        "outputId": "542faddc-3618-4bf3-c629-b625979c856e",
        "colab": {
          "base_uri": "https://localhost:8080/",
          "height": 49
        }
      },
      "source": [
        "!kaggle config set -n path -v{/content}"
      ],
      "execution_count": 0,
      "outputs": [
        {
          "output_type": "stream",
          "text": [
            "Warning: Your Kaggle API key is readable by other users on this system! To fix this, you can run 'chmod 600 /root/.kaggle/kaggle.json'\n",
            "- path is now set to: {/content}\n"
          ],
          "name": "stdout"
        }
      ]
    },
    {
      "cell_type": "code",
      "metadata": {
        "id": "gWp6-uE0fRbo",
        "colab_type": "code",
        "outputId": "dbc9cb76-18d5-423c-d7c4-e8cd01c16712",
        "colab": {
          "base_uri": "https://localhost:8080/",
          "height": 49
        }
      },
      "source": [
        "#Downloading the dataset\n",
        "!kaggle datasets download -d snap/amazon-fine-food-reviews -p /content"
      ],
      "execution_count": 0,
      "outputs": [
        {
          "output_type": "stream",
          "text": [
            "Warning: Your Kaggle API key is readable by other users on this system! To fix this, you can run 'chmod 600 /root/.kaggle/kaggle.json'\n",
            "amazon-fine-food-reviews.zip: Skipping, found more recently modified local copy (use --force to force download)\n"
          ],
          "name": "stdout"
        }
      ]
    },
    {
      "cell_type": "code",
      "metadata": {
        "id": "zb5OHBxFjk1j",
        "colab_type": "code",
        "outputId": "26e3c9dd-4582-42eb-da82-360665194a13",
        "colab": {
          "base_uri": "https://localhost:8080/",
          "height": 131
        }
      },
      "source": [
        "#Unzipping\n",
        "!unzip /content/amazon-fine-food-reviews.zip"
      ],
      "execution_count": 74,
      "outputs": [
        {
          "output_type": "stream",
          "text": [
            "Archive:  /content/amazon-fine-food-reviews.zip\n",
            "replace Reviews.csv? [y]es, [n]o, [A]ll, [N]one, [r]ename: Y\n",
            "  inflating: Reviews.csv             Y\n",
            "\n",
            "replace database.sqlite? [y]es, [n]o, [A]ll, [N]one, [r]ename:   inflating: database.sqlite         Y\n",
            "\n",
            "replace hashes.txt? [y]es, [n]o, [A]ll, [N]one, [r]ename:   inflating: hashes.txt              \n"
          ],
          "name": "stdout"
        }
      ]
    },
    {
      "cell_type": "code",
      "metadata": {
        "id": "9sKe5yFzj-Na",
        "colab_type": "code",
        "colab": {}
      },
      "source": [
        "import pandas as pd\n",
        "import numpy\n",
        "import sqlite3"
      ],
      "execution_count": 0,
      "outputs": []
    },
    {
      "cell_type": "markdown",
      "metadata": {
        "id": "Z2JE2OJxlXZk",
        "colab_type": "text"
      },
      "source": [
        "### **TASK 1 and 2: filtering reviews; Produce a schema where count is greater than one.**\n",
        "\n"
      ]
    },
    {
      "cell_type": "code",
      "metadata": {
        "id": "9o075hAklnnZ",
        "colab_type": "code",
        "outputId": "b87b2929-6417-45dd-edff-b6d22a26c27b",
        "colab": {
          "base_uri": "https://localhost:8080/",
          "height": 201
        }
      },
      "source": [
        "# Positive review Score > 3, Negative review Score < 3\n",
        "CONN = sqlite3.connect(\"database.sqlite\")\n",
        "\n",
        "DF = pd.read_sql_query(\"\"\"select UserId, ProductId, \n",
        "                          ProfileName, Time,\n",
        "                          Score, Text, COUNT(*)\n",
        "                          FROM reviews\n",
        "                          WHERE Score != 3\n",
        "                          GROUP BY UserId\n",
        "                          HAVING COUNT(*) > 1\"\"\", CONN)\n",
        "DF.head()"
      ],
      "execution_count": 76,
      "outputs": [
        {
          "output_type": "execute_result",
          "data": {
            "text/html": [
              "<div>\n",
              "<style scoped>\n",
              "    .dataframe tbody tr th:only-of-type {\n",
              "        vertical-align: middle;\n",
              "    }\n",
              "\n",
              "    .dataframe tbody tr th {\n",
              "        vertical-align: top;\n",
              "    }\n",
              "\n",
              "    .dataframe thead th {\n",
              "        text-align: right;\n",
              "    }\n",
              "</style>\n",
              "<table border=\"1\" class=\"dataframe\">\n",
              "  <thead>\n",
              "    <tr style=\"text-align: right;\">\n",
              "      <th></th>\n",
              "      <th>UserId</th>\n",
              "      <th>ProductId</th>\n",
              "      <th>ProfileName</th>\n",
              "      <th>Time</th>\n",
              "      <th>Score</th>\n",
              "      <th>Text</th>\n",
              "      <th>COUNT(*)</th>\n",
              "    </tr>\n",
              "  </thead>\n",
              "  <tbody>\n",
              "    <tr>\n",
              "      <th>0</th>\n",
              "      <td>#oc-R115TNMSPFT9I7</td>\n",
              "      <td>B007Y59HVM</td>\n",
              "      <td>Breyton</td>\n",
              "      <td>1331510400</td>\n",
              "      <td>2</td>\n",
              "      <td>Overall its just OK when considering the price...</td>\n",
              "      <td>2</td>\n",
              "    </tr>\n",
              "    <tr>\n",
              "      <th>1</th>\n",
              "      <td>#oc-R11D9D7SHXIJB9</td>\n",
              "      <td>B005HG9ET0</td>\n",
              "      <td>Louis E. Emory \"hoppy\"</td>\n",
              "      <td>1342396800</td>\n",
              "      <td>5</td>\n",
              "      <td>My wife has recurring extreme muscle spasms, u...</td>\n",
              "      <td>3</td>\n",
              "    </tr>\n",
              "    <tr>\n",
              "      <th>2</th>\n",
              "      <td>#oc-R11DNU2NBKQ23Z</td>\n",
              "      <td>B007Y59HVM</td>\n",
              "      <td>Kim Cieszykowski</td>\n",
              "      <td>1348531200</td>\n",
              "      <td>1</td>\n",
              "      <td>This coffee is horrible and unfortunately not ...</td>\n",
              "      <td>2</td>\n",
              "    </tr>\n",
              "    <tr>\n",
              "      <th>3</th>\n",
              "      <td>#oc-R11O5J5ZVQE25C</td>\n",
              "      <td>B005HG9ET0</td>\n",
              "      <td>Penguin Chick</td>\n",
              "      <td>1346889600</td>\n",
              "      <td>5</td>\n",
              "      <td>This will be the bottle that you grab from the...</td>\n",
              "      <td>3</td>\n",
              "    </tr>\n",
              "    <tr>\n",
              "      <th>4</th>\n",
              "      <td>#oc-R12KPBODL2B5ZD</td>\n",
              "      <td>B007OSBE1U</td>\n",
              "      <td>Christopher P. Presta</td>\n",
              "      <td>1348617600</td>\n",
              "      <td>1</td>\n",
              "      <td>I didnt like this coffee. Instead of telling y...</td>\n",
              "      <td>2</td>\n",
              "    </tr>\n",
              "  </tbody>\n",
              "</table>\n",
              "</div>"
            ],
            "text/plain": [
              "               UserId  ... COUNT(*)\n",
              "0  #oc-R115TNMSPFT9I7  ...        2\n",
              "1  #oc-R11D9D7SHXIJB9  ...        3\n",
              "2  #oc-R11DNU2NBKQ23Z  ...        2\n",
              "3  #oc-R11O5J5ZVQE25C  ...        3\n",
              "4  #oc-R12KPBODL2B5ZD  ...        2\n",
              "\n",
              "[5 rows x 7 columns]"
            ]
          },
          "metadata": {
            "tags": []
          },
          "execution_count": 76
        }
      ]
    },
    {
      "cell_type": "markdown",
      "metadata": {
        "id": "BqitX6YanyvO",
        "colab_type": "text"
      },
      "source": [
        "### **TASK 3: Sort product id in ascending order and deduplicate data.**"
      ]
    },
    {
      "cell_type": "code",
      "metadata": {
        "id": "8pYpyYTQoAWl",
        "colab_type": "code",
        "outputId": "31b8cda1-57b4-4728-e662-8bc1f467d6e9",
        "colab": {
          "base_uri": "https://localhost:8080/",
          "height": 201
        }
      },
      "source": [
        "DF.sort_values('ProductId', inplace=True)\n",
        "DF.drop_duplicates(subset=\"ProductId\",\n",
        "                   keep=False, inplace=True)\n",
        "DF.head()"
      ],
      "execution_count": 77,
      "outputs": [
        {
          "output_type": "execute_result",
          "data": {
            "text/html": [
              "<div>\n",
              "<style scoped>\n",
              "    .dataframe tbody tr th:only-of-type {\n",
              "        vertical-align: middle;\n",
              "    }\n",
              "\n",
              "    .dataframe tbody tr th {\n",
              "        vertical-align: top;\n",
              "    }\n",
              "\n",
              "    .dataframe thead th {\n",
              "        text-align: right;\n",
              "    }\n",
              "</style>\n",
              "<table border=\"1\" class=\"dataframe\">\n",
              "  <thead>\n",
              "    <tr style=\"text-align: right;\">\n",
              "      <th></th>\n",
              "      <th>UserId</th>\n",
              "      <th>ProductId</th>\n",
              "      <th>ProfileName</th>\n",
              "      <th>Time</th>\n",
              "      <th>Score</th>\n",
              "      <th>Text</th>\n",
              "      <th>COUNT(*)</th>\n",
              "    </tr>\n",
              "  </thead>\n",
              "  <tbody>\n",
              "    <tr>\n",
              "      <th>53360</th>\n",
              "      <td>A3OI7ZGH6WZJ5G</td>\n",
              "      <td>0006641040</td>\n",
              "      <td>Mary Jane Rogers \"Maedchen\"</td>\n",
              "      <td>1293840000</td>\n",
              "      <td>5</td>\n",
              "      <td>The same author wrote \"Where the Wild Things A...</td>\n",
              "      <td>2</td>\n",
              "    </tr>\n",
              "    <tr>\n",
              "      <th>26134</th>\n",
              "      <td>A2BEAAU6N7K8GD</td>\n",
              "      <td>B000052Y74</td>\n",
              "      <td>Silne30</td>\n",
              "      <td>1350345600</td>\n",
              "      <td>4</td>\n",
              "      <td>It's just as described. Its minty, helps with ...</td>\n",
              "      <td>2</td>\n",
              "    </tr>\n",
              "    <tr>\n",
              "      <th>19211</th>\n",
              "      <td>A1YVJENMZL29O7</td>\n",
              "      <td>B00005344V</td>\n",
              "      <td>R. Meuli</td>\n",
              "      <td>1282348800</td>\n",
              "      <td>5</td>\n",
              "      <td>This product is Awesome and Helpful for anyone...</td>\n",
              "      <td>3</td>\n",
              "    </tr>\n",
              "    <tr>\n",
              "      <th>473</th>\n",
              "      <td>A10K7E9F0THV3</td>\n",
              "      <td>B0000535LF</td>\n",
              "      <td>Carol E. White</td>\n",
              "      <td>1315180800</td>\n",
              "      <td>5</td>\n",
              "      <td>Naturade Total Soy Meal Replacement powder was...</td>\n",
              "      <td>4</td>\n",
              "    </tr>\n",
              "    <tr>\n",
              "      <th>41746</th>\n",
              "      <td>A33BL538BKBA0S</td>\n",
              "      <td>B00005C2M3</td>\n",
              "      <td>girlabouttownl33t</td>\n",
              "      <td>1301443200</td>\n",
              "      <td>5</td>\n",
              "      <td>Buying this much is the most cost effective wa...</td>\n",
              "      <td>2</td>\n",
              "    </tr>\n",
              "  </tbody>\n",
              "</table>\n",
              "</div>"
            ],
            "text/plain": [
              "               UserId  ... COUNT(*)\n",
              "53360  A3OI7ZGH6WZJ5G  ...        2\n",
              "26134  A2BEAAU6N7K8GD  ...        2\n",
              "19211  A1YVJENMZL29O7  ...        3\n",
              "473     A10K7E9F0THV3  ...        4\n",
              "41746  A33BL538BKBA0S  ...        2\n",
              "\n",
              "[5 rows x 7 columns]"
            ]
          },
          "metadata": {
            "tags": []
          },
          "execution_count": 77
        }
      ]
    },
    {
      "cell_type": "markdown",
      "metadata": {
        "id": "_1ZQnGCOrDB-",
        "colab_type": "text"
      },
      "source": [
        "### **TASK 4: How many positive and negative reviews are present in our dataset**"
      ]
    },
    {
      "cell_type": "code",
      "metadata": {
        "id": "O7gwbNb-rUrS",
        "colab_type": "code",
        "outputId": "71ca4ecb-741b-4d88-93d3-0bea1b4ad788",
        "colab": {
          "base_uri": "https://localhost:8080/",
          "height": 49
        }
      },
      "source": [
        "# Positive review scores: 4,5; Negative review scores 1,2\n",
        "POS_REV = DF['Score'].value_counts()[4] + DF['Score'].value_counts()[5]\n",
        "NEG_REV = DF['Score'].value_counts()[1] + DF['Score'].value_counts()[2]\n",
        "\n",
        "print(\"There are \" + str(POS_REV), 'positive reviews in the dataset')\n",
        "print(\"There are \" + str(NEG_REV), 'negative reviews in the dataset')"
      ],
      "execution_count": 78,
      "outputs": [
        {
          "output_type": "stream",
          "text": [
            "There are 9949 positive reviews in the dataset\n",
            "There are 1844 negative reviews in the dataset\n"
          ],
          "name": "stdout"
        }
      ]
    },
    {
      "cell_type": "markdown",
      "metadata": {
        "id": "OOID0COIus3g",
        "colab_type": "text"
      },
      "source": [
        "### **TASK 5: Remove the html tags**\n",
        "\n"
      ]
    },
    {
      "cell_type": "code",
      "metadata": {
        "id": "JaFHU0AyvA11",
        "colab_type": "code",
        "outputId": "08f41a17-ab7e-40c7-f148-259347d9184c",
        "colab": {
          "base_uri": "https://localhost:8080/",
          "height": 201
        }
      },
      "source": [
        "from html.parser import HTMLParser\n",
        "\n",
        "class MLStripper(HTMLParser):\n",
        "    def __init__(self):\n",
        "        self.reset()\n",
        "        self.strict = False\n",
        "        self.convert_charrefs = True\n",
        "        self.fed = []\n",
        "    def handle_data(self, d):\n",
        "        self.fed.append(d)\n",
        "    def get_data(self):\n",
        "        return ''.join(self.fed)\n",
        "\n",
        "def strip_tags(html):\n",
        "    S = MLStripper()\n",
        "    S.feed(html)\n",
        "    return S.get_data()\n",
        "\n",
        "DF['Text'] = DF['Text'].apply(strip_tags)\n",
        "\n",
        "DF.head()"
      ],
      "execution_count": 79,
      "outputs": [
        {
          "output_type": "execute_result",
          "data": {
            "text/html": [
              "<div>\n",
              "<style scoped>\n",
              "    .dataframe tbody tr th:only-of-type {\n",
              "        vertical-align: middle;\n",
              "    }\n",
              "\n",
              "    .dataframe tbody tr th {\n",
              "        vertical-align: top;\n",
              "    }\n",
              "\n",
              "    .dataframe thead th {\n",
              "        text-align: right;\n",
              "    }\n",
              "</style>\n",
              "<table border=\"1\" class=\"dataframe\">\n",
              "  <thead>\n",
              "    <tr style=\"text-align: right;\">\n",
              "      <th></th>\n",
              "      <th>UserId</th>\n",
              "      <th>ProductId</th>\n",
              "      <th>ProfileName</th>\n",
              "      <th>Time</th>\n",
              "      <th>Score</th>\n",
              "      <th>Text</th>\n",
              "      <th>COUNT(*)</th>\n",
              "    </tr>\n",
              "  </thead>\n",
              "  <tbody>\n",
              "    <tr>\n",
              "      <th>53360</th>\n",
              "      <td>A3OI7ZGH6WZJ5G</td>\n",
              "      <td>0006641040</td>\n",
              "      <td>Mary Jane Rogers \"Maedchen\"</td>\n",
              "      <td>1293840000</td>\n",
              "      <td>5</td>\n",
              "      <td>The same author wrote \"Where the Wild Things A...</td>\n",
              "      <td>2</td>\n",
              "    </tr>\n",
              "    <tr>\n",
              "      <th>26134</th>\n",
              "      <td>A2BEAAU6N7K8GD</td>\n",
              "      <td>B000052Y74</td>\n",
              "      <td>Silne30</td>\n",
              "      <td>1350345600</td>\n",
              "      <td>4</td>\n",
              "      <td>It's just as described. Its minty, helps with ...</td>\n",
              "      <td>2</td>\n",
              "    </tr>\n",
              "    <tr>\n",
              "      <th>19211</th>\n",
              "      <td>A1YVJENMZL29O7</td>\n",
              "      <td>B00005344V</td>\n",
              "      <td>R. Meuli</td>\n",
              "      <td>1282348800</td>\n",
              "      <td>5</td>\n",
              "      <td>This product is Awesome and Helpful for anyone...</td>\n",
              "      <td>3</td>\n",
              "    </tr>\n",
              "    <tr>\n",
              "      <th>473</th>\n",
              "      <td>A10K7E9F0THV3</td>\n",
              "      <td>B0000535LF</td>\n",
              "      <td>Carol E. White</td>\n",
              "      <td>1315180800</td>\n",
              "      <td>5</td>\n",
              "      <td>Naturade Total Soy Meal Replacement powder was...</td>\n",
              "      <td>4</td>\n",
              "    </tr>\n",
              "    <tr>\n",
              "      <th>41746</th>\n",
              "      <td>A33BL538BKBA0S</td>\n",
              "      <td>B00005C2M3</td>\n",
              "      <td>girlabouttownl33t</td>\n",
              "      <td>1301443200</td>\n",
              "      <td>5</td>\n",
              "      <td>Buying this much is the most cost effective wa...</td>\n",
              "      <td>2</td>\n",
              "    </tr>\n",
              "  </tbody>\n",
              "</table>\n",
              "</div>"
            ],
            "text/plain": [
              "               UserId  ... COUNT(*)\n",
              "53360  A3OI7ZGH6WZJ5G  ...        2\n",
              "26134  A2BEAAU6N7K8GD  ...        2\n",
              "19211  A1YVJENMZL29O7  ...        3\n",
              "473     A10K7E9F0THV3  ...        4\n",
              "41746  A33BL538BKBA0S  ...        2\n",
              "\n",
              "[5 rows x 7 columns]"
            ]
          },
          "metadata": {
            "tags": []
          },
          "execution_count": 79
        }
      ]
    },
    {
      "cell_type": "markdown",
      "metadata": {
        "id": "BqcRAm1Av_mI",
        "colab_type": "text"
      },
      "source": [
        "### **TASK 6: Remove any punctuations or limited set of special characters**"
      ]
    },
    {
      "cell_type": "code",
      "metadata": {
        "id": "VeAAanq0wWE0",
        "colab_type": "code",
        "outputId": "6c104c08-cf8b-4feb-e9dc-9f4bc919688f",
        "colab": {
          "base_uri": "https://localhost:8080/",
          "height": 201
        }
      },
      "source": [
        "import re\n",
        "\n",
        "def remove_symbols(text):\n",
        "    return re.sub(\"[^A-z0-9\\s]+\", \"\", text)\n",
        "\n",
        "DF['Text'] = DF['Text'].apply(remove_symbols)\n",
        "\n",
        "DF.head()"
      ],
      "execution_count": 80,
      "outputs": [
        {
          "output_type": "execute_result",
          "data": {
            "text/html": [
              "<div>\n",
              "<style scoped>\n",
              "    .dataframe tbody tr th:only-of-type {\n",
              "        vertical-align: middle;\n",
              "    }\n",
              "\n",
              "    .dataframe tbody tr th {\n",
              "        vertical-align: top;\n",
              "    }\n",
              "\n",
              "    .dataframe thead th {\n",
              "        text-align: right;\n",
              "    }\n",
              "</style>\n",
              "<table border=\"1\" class=\"dataframe\">\n",
              "  <thead>\n",
              "    <tr style=\"text-align: right;\">\n",
              "      <th></th>\n",
              "      <th>UserId</th>\n",
              "      <th>ProductId</th>\n",
              "      <th>ProfileName</th>\n",
              "      <th>Time</th>\n",
              "      <th>Score</th>\n",
              "      <th>Text</th>\n",
              "      <th>COUNT(*)</th>\n",
              "    </tr>\n",
              "  </thead>\n",
              "  <tbody>\n",
              "    <tr>\n",
              "      <th>53360</th>\n",
              "      <td>A3OI7ZGH6WZJ5G</td>\n",
              "      <td>0006641040</td>\n",
              "      <td>Mary Jane Rogers \"Maedchen\"</td>\n",
              "      <td>1293840000</td>\n",
              "      <td>5</td>\n",
              "      <td>The same author wrote Where the Wild Things Ar...</td>\n",
              "      <td>2</td>\n",
              "    </tr>\n",
              "    <tr>\n",
              "      <th>26134</th>\n",
              "      <td>A2BEAAU6N7K8GD</td>\n",
              "      <td>B000052Y74</td>\n",
              "      <td>Silne30</td>\n",
              "      <td>1350345600</td>\n",
              "      <td>4</td>\n",
              "      <td>Its just as described Its minty helps with my ...</td>\n",
              "      <td>2</td>\n",
              "    </tr>\n",
              "    <tr>\n",
              "      <th>19211</th>\n",
              "      <td>A1YVJENMZL29O7</td>\n",
              "      <td>B00005344V</td>\n",
              "      <td>R. Meuli</td>\n",
              "      <td>1282348800</td>\n",
              "      <td>5</td>\n",
              "      <td>This product is Awesome and Helpful for anyone...</td>\n",
              "      <td>3</td>\n",
              "    </tr>\n",
              "    <tr>\n",
              "      <th>473</th>\n",
              "      <td>A10K7E9F0THV3</td>\n",
              "      <td>B0000535LF</td>\n",
              "      <td>Carol E. White</td>\n",
              "      <td>1315180800</td>\n",
              "      <td>5</td>\n",
              "      <td>Naturade Total Soy Meal Replacement powder was...</td>\n",
              "      <td>4</td>\n",
              "    </tr>\n",
              "    <tr>\n",
              "      <th>41746</th>\n",
              "      <td>A33BL538BKBA0S</td>\n",
              "      <td>B00005C2M3</td>\n",
              "      <td>girlabouttownl33t</td>\n",
              "      <td>1301443200</td>\n",
              "      <td>5</td>\n",
              "      <td>Buying this much is the most cost effective wa...</td>\n",
              "      <td>2</td>\n",
              "    </tr>\n",
              "  </tbody>\n",
              "</table>\n",
              "</div>"
            ],
            "text/plain": [
              "               UserId  ... COUNT(*)\n",
              "53360  A3OI7ZGH6WZJ5G  ...        2\n",
              "26134  A2BEAAU6N7K8GD  ...        2\n",
              "19211  A1YVJENMZL29O7  ...        3\n",
              "473     A10K7E9F0THV3  ...        4\n",
              "41746  A33BL538BKBA0S  ...        2\n",
              "\n",
              "[5 rows x 7 columns]"
            ]
          },
          "metadata": {
            "tags": []
          },
          "execution_count": 80
        }
      ]
    },
    {
      "cell_type": "markdown",
      "metadata": {
        "id": "WFQ_nVDfxszw",
        "colab_type": "text"
      },
      "source": [
        "### **TASK 7: Check if the word is made up of English letters and is not alpha-numeric**"
      ]
    },
    {
      "cell_type": "code",
      "metadata": {
        "id": "Ut18rx0xyd4K",
        "colab_type": "code",
        "outputId": "0f1d9ca5-a846-46b2-e54a-bacab4da8f36",
        "colab": {
          "base_uri": "https://localhost:8080/",
          "height": 201
        }
      },
      "source": [
        "def letters_only(text):\n",
        "    return re.sub(\"[^a-zA-Z\\s]\", \"\", text)\n",
        "\n",
        "DF['Text'] = DF['Text'].apply(letters_only)\n",
        "\n",
        "DF.head()\n"
      ],
      "execution_count": 82,
      "outputs": [
        {
          "output_type": "execute_result",
          "data": {
            "text/html": [
              "<div>\n",
              "<style scoped>\n",
              "    .dataframe tbody tr th:only-of-type {\n",
              "        vertical-align: middle;\n",
              "    }\n",
              "\n",
              "    .dataframe tbody tr th {\n",
              "        vertical-align: top;\n",
              "    }\n",
              "\n",
              "    .dataframe thead th {\n",
              "        text-align: right;\n",
              "    }\n",
              "</style>\n",
              "<table border=\"1\" class=\"dataframe\">\n",
              "  <thead>\n",
              "    <tr style=\"text-align: right;\">\n",
              "      <th></th>\n",
              "      <th>UserId</th>\n",
              "      <th>ProductId</th>\n",
              "      <th>ProfileName</th>\n",
              "      <th>Time</th>\n",
              "      <th>Score</th>\n",
              "      <th>Text</th>\n",
              "      <th>COUNT(*)</th>\n",
              "    </tr>\n",
              "  </thead>\n",
              "  <tbody>\n",
              "    <tr>\n",
              "      <th>53360</th>\n",
              "      <td>A3OI7ZGH6WZJ5G</td>\n",
              "      <td>0006641040</td>\n",
              "      <td>Mary Jane Rogers \"Maedchen\"</td>\n",
              "      <td>1293840000</td>\n",
              "      <td>5</td>\n",
              "      <td>The same author wrote Where the Wild Things Ar...</td>\n",
              "      <td>2</td>\n",
              "    </tr>\n",
              "    <tr>\n",
              "      <th>26134</th>\n",
              "      <td>A2BEAAU6N7K8GD</td>\n",
              "      <td>B000052Y74</td>\n",
              "      <td>Silne30</td>\n",
              "      <td>1350345600</td>\n",
              "      <td>4</td>\n",
              "      <td>Its just as described Its minty helps with my ...</td>\n",
              "      <td>2</td>\n",
              "    </tr>\n",
              "    <tr>\n",
              "      <th>19211</th>\n",
              "      <td>A1YVJENMZL29O7</td>\n",
              "      <td>B00005344V</td>\n",
              "      <td>R. Meuli</td>\n",
              "      <td>1282348800</td>\n",
              "      <td>5</td>\n",
              "      <td>This product is Awesome and Helpful for anyone...</td>\n",
              "      <td>3</td>\n",
              "    </tr>\n",
              "    <tr>\n",
              "      <th>473</th>\n",
              "      <td>A10K7E9F0THV3</td>\n",
              "      <td>B0000535LF</td>\n",
              "      <td>Carol E. White</td>\n",
              "      <td>1315180800</td>\n",
              "      <td>5</td>\n",
              "      <td>Naturade Total Soy Meal Replacement powder was...</td>\n",
              "      <td>4</td>\n",
              "    </tr>\n",
              "    <tr>\n",
              "      <th>41746</th>\n",
              "      <td>A33BL538BKBA0S</td>\n",
              "      <td>B00005C2M3</td>\n",
              "      <td>girlabouttownl33t</td>\n",
              "      <td>1301443200</td>\n",
              "      <td>5</td>\n",
              "      <td>Buying this much is the most cost effective wa...</td>\n",
              "      <td>2</td>\n",
              "    </tr>\n",
              "  </tbody>\n",
              "</table>\n",
              "</div>"
            ],
            "text/plain": [
              "               UserId  ... COUNT(*)\n",
              "53360  A3OI7ZGH6WZJ5G  ...        2\n",
              "26134  A2BEAAU6N7K8GD  ...        2\n",
              "19211  A1YVJENMZL29O7  ...        3\n",
              "473     A10K7E9F0THV3  ...        4\n",
              "41746  A33BL538BKBA0S  ...        2\n",
              "\n",
              "[5 rows x 7 columns]"
            ]
          },
          "metadata": {
            "tags": []
          },
          "execution_count": 82
        }
      ]
    },
    {
      "cell_type": "markdown",
      "metadata": {
        "id": "VOuYb6lcz_K-",
        "colab_type": "text"
      },
      "source": [
        "### **TASK 8: Check to see if the length of the word is greater than 2**"
      ]
    },
    {
      "cell_type": "code",
      "metadata": {
        "id": "XAx2CW2T0KvB",
        "colab_type": "code",
        "outputId": "3c64deeb-668d-4563-eb15-f480c4d60f17",
        "colab": {
          "base_uri": "https://localhost:8080/",
          "height": 201
        }
      },
      "source": [
        "def check_length(text):\n",
        "    text = text.split()\n",
        "    contain = []\n",
        "\n",
        "    for words in text:\n",
        "        if len(words) > 2:\n",
        "            contain.append(words)\n",
        "\n",
        "    final = ' '.join(contain)\n",
        "    return final\n",
        "\n",
        "DF['Text'] = DF['Text'].apply(check_length)\n",
        "\n",
        "DF.head()"
      ],
      "execution_count": 83,
      "outputs": [
        {
          "output_type": "execute_result",
          "data": {
            "text/html": [
              "<div>\n",
              "<style scoped>\n",
              "    .dataframe tbody tr th:only-of-type {\n",
              "        vertical-align: middle;\n",
              "    }\n",
              "\n",
              "    .dataframe tbody tr th {\n",
              "        vertical-align: top;\n",
              "    }\n",
              "\n",
              "    .dataframe thead th {\n",
              "        text-align: right;\n",
              "    }\n",
              "</style>\n",
              "<table border=\"1\" class=\"dataframe\">\n",
              "  <thead>\n",
              "    <tr style=\"text-align: right;\">\n",
              "      <th></th>\n",
              "      <th>UserId</th>\n",
              "      <th>ProductId</th>\n",
              "      <th>ProfileName</th>\n",
              "      <th>Time</th>\n",
              "      <th>Score</th>\n",
              "      <th>Text</th>\n",
              "      <th>COUNT(*)</th>\n",
              "    </tr>\n",
              "  </thead>\n",
              "  <tbody>\n",
              "    <tr>\n",
              "      <th>53360</th>\n",
              "      <td>A3OI7ZGH6WZJ5G</td>\n",
              "      <td>0006641040</td>\n",
              "      <td>Mary Jane Rogers \"Maedchen\"</td>\n",
              "      <td>1293840000</td>\n",
              "      <td>5</td>\n",
              "      <td>The same author wrote Where the Wild Things Ar...</td>\n",
              "      <td>2</td>\n",
              "    </tr>\n",
              "    <tr>\n",
              "      <th>26134</th>\n",
              "      <td>A2BEAAU6N7K8GD</td>\n",
              "      <td>B000052Y74</td>\n",
              "      <td>Silne30</td>\n",
              "      <td>1350345600</td>\n",
              "      <td>4</td>\n",
              "      <td>Its just described Its minty helps with milddr...</td>\n",
              "      <td>2</td>\n",
              "    </tr>\n",
              "    <tr>\n",
              "      <th>19211</th>\n",
              "      <td>A1YVJENMZL29O7</td>\n",
              "      <td>B00005344V</td>\n",
              "      <td>R. Meuli</td>\n",
              "      <td>1282348800</td>\n",
              "      <td>5</td>\n",
              "      <td>This product Awesome and Helpful for anyone wi...</td>\n",
              "      <td>3</td>\n",
              "    </tr>\n",
              "    <tr>\n",
              "      <th>473</th>\n",
              "      <td>A10K7E9F0THV3</td>\n",
              "      <td>B0000535LF</td>\n",
              "      <td>Carol E. White</td>\n",
              "      <td>1315180800</td>\n",
              "      <td>5</td>\n",
              "      <td>Naturade Total Soy Meal Replacement powder was...</td>\n",
              "      <td>4</td>\n",
              "    </tr>\n",
              "    <tr>\n",
              "      <th>41746</th>\n",
              "      <td>A33BL538BKBA0S</td>\n",
              "      <td>B00005C2M3</td>\n",
              "      <td>girlabouttownl33t</td>\n",
              "      <td>1301443200</td>\n",
              "      <td>5</td>\n",
              "      <td>Buying this much the most cost effective way a...</td>\n",
              "      <td>2</td>\n",
              "    </tr>\n",
              "  </tbody>\n",
              "</table>\n",
              "</div>"
            ],
            "text/plain": [
              "               UserId  ... COUNT(*)\n",
              "53360  A3OI7ZGH6WZJ5G  ...        2\n",
              "26134  A2BEAAU6N7K8GD  ...        2\n",
              "19211  A1YVJENMZL29O7  ...        3\n",
              "473     A10K7E9F0THV3  ...        4\n",
              "41746  A33BL538BKBA0S  ...        2\n",
              "\n",
              "[5 rows x 7 columns]"
            ]
          },
          "metadata": {
            "tags": []
          },
          "execution_count": 83
        }
      ]
    },
    {
      "cell_type": "markdown",
      "metadata": {
        "id": "-pY4TKUW1OnD",
        "colab_type": "text"
      },
      "source": [
        "### **TASK 9: Convert the word to lowercase**"
      ]
    },
    {
      "cell_type": "code",
      "metadata": {
        "id": "DHvoAfIB1dXN",
        "colab_type": "code",
        "outputId": "8144b7c4-aa47-4ee3-8af2-61f9cc6203ee",
        "colab": {
          "base_uri": "https://localhost:8080/",
          "height": 201
        }
      },
      "source": [
        "def lower_case(text):\n",
        "    return text.lower()\n",
        "\n",
        "DF['Text'] = DF['Text'].apply(lower_case)\n",
        "\n",
        "DF.head()"
      ],
      "execution_count": 84,
      "outputs": [
        {
          "output_type": "execute_result",
          "data": {
            "text/html": [
              "<div>\n",
              "<style scoped>\n",
              "    .dataframe tbody tr th:only-of-type {\n",
              "        vertical-align: middle;\n",
              "    }\n",
              "\n",
              "    .dataframe tbody tr th {\n",
              "        vertical-align: top;\n",
              "    }\n",
              "\n",
              "    .dataframe thead th {\n",
              "        text-align: right;\n",
              "    }\n",
              "</style>\n",
              "<table border=\"1\" class=\"dataframe\">\n",
              "  <thead>\n",
              "    <tr style=\"text-align: right;\">\n",
              "      <th></th>\n",
              "      <th>UserId</th>\n",
              "      <th>ProductId</th>\n",
              "      <th>ProfileName</th>\n",
              "      <th>Time</th>\n",
              "      <th>Score</th>\n",
              "      <th>Text</th>\n",
              "      <th>COUNT(*)</th>\n",
              "    </tr>\n",
              "  </thead>\n",
              "  <tbody>\n",
              "    <tr>\n",
              "      <th>53360</th>\n",
              "      <td>A3OI7ZGH6WZJ5G</td>\n",
              "      <td>0006641040</td>\n",
              "      <td>Mary Jane Rogers \"Maedchen\"</td>\n",
              "      <td>1293840000</td>\n",
              "      <td>5</td>\n",
              "      <td>the same author wrote where the wild things ar...</td>\n",
              "      <td>2</td>\n",
              "    </tr>\n",
              "    <tr>\n",
              "      <th>26134</th>\n",
              "      <td>A2BEAAU6N7K8GD</td>\n",
              "      <td>B000052Y74</td>\n",
              "      <td>Silne30</td>\n",
              "      <td>1350345600</td>\n",
              "      <td>4</td>\n",
              "      <td>its just described its minty helps with milddr...</td>\n",
              "      <td>2</td>\n",
              "    </tr>\n",
              "    <tr>\n",
              "      <th>19211</th>\n",
              "      <td>A1YVJENMZL29O7</td>\n",
              "      <td>B00005344V</td>\n",
              "      <td>R. Meuli</td>\n",
              "      <td>1282348800</td>\n",
              "      <td>5</td>\n",
              "      <td>this product awesome and helpful for anyone wi...</td>\n",
              "      <td>3</td>\n",
              "    </tr>\n",
              "    <tr>\n",
              "      <th>473</th>\n",
              "      <td>A10K7E9F0THV3</td>\n",
              "      <td>B0000535LF</td>\n",
              "      <td>Carol E. White</td>\n",
              "      <td>1315180800</td>\n",
              "      <td>5</td>\n",
              "      <td>naturade total soy meal replacement powder was...</td>\n",
              "      <td>4</td>\n",
              "    </tr>\n",
              "    <tr>\n",
              "      <th>41746</th>\n",
              "      <td>A33BL538BKBA0S</td>\n",
              "      <td>B00005C2M3</td>\n",
              "      <td>girlabouttownl33t</td>\n",
              "      <td>1301443200</td>\n",
              "      <td>5</td>\n",
              "      <td>buying this much the most cost effective way a...</td>\n",
              "      <td>2</td>\n",
              "    </tr>\n",
              "  </tbody>\n",
              "</table>\n",
              "</div>"
            ],
            "text/plain": [
              "               UserId  ... COUNT(*)\n",
              "53360  A3OI7ZGH6WZJ5G  ...        2\n",
              "26134  A2BEAAU6N7K8GD  ...        2\n",
              "19211  A1YVJENMZL29O7  ...        3\n",
              "473     A10K7E9F0THV3  ...        4\n",
              "41746  A33BL538BKBA0S  ...        2\n",
              "\n",
              "[5 rows x 7 columns]"
            ]
          },
          "metadata": {
            "tags": []
          },
          "execution_count": 84
        }
      ]
    },
    {
      "cell_type": "markdown",
      "metadata": {
        "id": "zswUpYlu24h4",
        "colab_type": "text"
      },
      "source": [
        "### **TASK 10: Remove Stopwords**"
      ]
    },
    {
      "cell_type": "code",
      "metadata": {
        "id": "6bmX9Yb422YA",
        "colab_type": "code",
        "outputId": "f41d8f5e-ebde-4c40-9a5d-b1667efb982d",
        "colab": {
          "base_uri": "https://localhost:8080/",
          "height": 201
        }
      },
      "source": [
        "import nltk\n",
        "\n",
        "def remove_stopwords(text):\n",
        "    try:\n",
        "        from nltk.corpus import stopwords\n",
        "        from nltk.tokenize import word_tokenize\n",
        "        stop_words = set(stopwords.words('english'))\n",
        "        word_tokens = word_tokenize(text)\n",
        "        filtered_sentence = [w for w in word_tokens if not w in stop_words]\n",
        "\n",
        "    except:\n",
        "        print(\"Downloading NLTK resources\")\n",
        "        nltk.download(\"stopwords\")\n",
        "        nltk.download(\"punkt\")\n",
        "        return remove_stopwords(text)\n",
        "\n",
        "    return \" \".join(filtered_sentence)\n",
        "\n",
        "DF['Text'] = DF['Text'].apply(remove_stopwords)\n",
        "\n",
        "\n",
        "DF.head()"
      ],
      "execution_count": 85,
      "outputs": [
        {
          "output_type": "execute_result",
          "data": {
            "text/html": [
              "<div>\n",
              "<style scoped>\n",
              "    .dataframe tbody tr th:only-of-type {\n",
              "        vertical-align: middle;\n",
              "    }\n",
              "\n",
              "    .dataframe tbody tr th {\n",
              "        vertical-align: top;\n",
              "    }\n",
              "\n",
              "    .dataframe thead th {\n",
              "        text-align: right;\n",
              "    }\n",
              "</style>\n",
              "<table border=\"1\" class=\"dataframe\">\n",
              "  <thead>\n",
              "    <tr style=\"text-align: right;\">\n",
              "      <th></th>\n",
              "      <th>UserId</th>\n",
              "      <th>ProductId</th>\n",
              "      <th>ProfileName</th>\n",
              "      <th>Time</th>\n",
              "      <th>Score</th>\n",
              "      <th>Text</th>\n",
              "      <th>COUNT(*)</th>\n",
              "    </tr>\n",
              "  </thead>\n",
              "  <tbody>\n",
              "    <tr>\n",
              "      <th>53360</th>\n",
              "      <td>A3OI7ZGH6WZJ5G</td>\n",
              "      <td>0006641040</td>\n",
              "      <td>Mary Jane Rogers \"Maedchen\"</td>\n",
              "      <td>1293840000</td>\n",
              "      <td>5</td>\n",
              "      <td>author wrote wild things carol king wrote grea...</td>\n",
              "      <td>2</td>\n",
              "    </tr>\n",
              "    <tr>\n",
              "      <th>26134</th>\n",
              "      <td>A2BEAAU6N7K8GD</td>\n",
              "      <td>B000052Y74</td>\n",
              "      <td>Silne30</td>\n",
              "      <td>1350345600</td>\n",
              "      <td>4</td>\n",
              "      <td>described minty helps milddry mouth provides r...</td>\n",
              "      <td>2</td>\n",
              "    </tr>\n",
              "    <tr>\n",
              "      <th>19211</th>\n",
              "      <td>A1YVJENMZL29O7</td>\n",
              "      <td>B00005344V</td>\n",
              "      <td>R. Meuli</td>\n",
              "      <td>1282348800</td>\n",
              "      <td>5</td>\n",
              "      <td>product awesome helpful anyone asthma breathin...</td>\n",
              "      <td>3</td>\n",
              "    </tr>\n",
              "    <tr>\n",
              "      <th>473</th>\n",
              "      <td>A10K7E9F0THV3</td>\n",
              "      <td>B0000535LF</td>\n",
              "      <td>Carol E. White</td>\n",
              "      <td>1315180800</td>\n",
              "      <td>5</td>\n",
              "      <td>naturade total soy meal replacement powder adv...</td>\n",
              "      <td>4</td>\n",
              "    </tr>\n",
              "    <tr>\n",
              "      <th>41746</th>\n",
              "      <td>A33BL538BKBA0S</td>\n",
              "      <td>B00005C2M3</td>\n",
              "      <td>girlabouttownl33t</td>\n",
              "      <td>1301443200</td>\n",
              "      <td>5</td>\n",
              "      <td>buying much cost effective way since lot makes...</td>\n",
              "      <td>2</td>\n",
              "    </tr>\n",
              "  </tbody>\n",
              "</table>\n",
              "</div>"
            ],
            "text/plain": [
              "               UserId  ... COUNT(*)\n",
              "53360  A3OI7ZGH6WZJ5G  ...        2\n",
              "26134  A2BEAAU6N7K8GD  ...        2\n",
              "19211  A1YVJENMZL29O7  ...        3\n",
              "473     A10K7E9F0THV3  ...        4\n",
              "41746  A33BL538BKBA0S  ...        2\n",
              "\n",
              "[5 rows x 7 columns]"
            ]
          },
          "metadata": {
            "tags": []
          },
          "execution_count": 85
        }
      ]
    },
    {
      "cell_type": "markdown",
      "metadata": {
        "id": "2SBrX8W039rm",
        "colab_type": "text"
      },
      "source": [
        "### **TASK 11: Finally Snowball Stemming the word**"
      ]
    },
    {
      "cell_type": "code",
      "metadata": {
        "id": "S15qDWXA4Ivi",
        "colab_type": "code",
        "outputId": "033c66e0-7ec2-49e2-fa46-f1541c5a62c6",
        "colab": {
          "base_uri": "https://localhost:8080/",
          "height": 201
        }
      },
      "source": [
        "from nltk.corpus import stopwords\n",
        "from nltk.stem import SnowballStemmer\n",
        "import nltk\n",
        "def snow_stem(text):\n",
        "\n",
        "    STEMMER = SnowballStemmer('english')\n",
        "    WORD_TOKENS = nltk.word_tokenize(text)\n",
        "    STEMMED_WORD = [STEMMER.stem(word) for word in WORD_TOKENS]\n",
        "    return \" \".join(STEMMED_WORD)\n",
        "\n",
        "DF['Text'] = DF['Text'].apply(snow_stem)\n",
        "\n",
        "DF.head()"
      ],
      "execution_count": 87,
      "outputs": [
        {
          "output_type": "execute_result",
          "data": {
            "text/html": [
              "<div>\n",
              "<style scoped>\n",
              "    .dataframe tbody tr th:only-of-type {\n",
              "        vertical-align: middle;\n",
              "    }\n",
              "\n",
              "    .dataframe tbody tr th {\n",
              "        vertical-align: top;\n",
              "    }\n",
              "\n",
              "    .dataframe thead th {\n",
              "        text-align: right;\n",
              "    }\n",
              "</style>\n",
              "<table border=\"1\" class=\"dataframe\">\n",
              "  <thead>\n",
              "    <tr style=\"text-align: right;\">\n",
              "      <th></th>\n",
              "      <th>UserId</th>\n",
              "      <th>ProductId</th>\n",
              "      <th>ProfileName</th>\n",
              "      <th>Time</th>\n",
              "      <th>Score</th>\n",
              "      <th>Text</th>\n",
              "      <th>COUNT(*)</th>\n",
              "    </tr>\n",
              "  </thead>\n",
              "  <tbody>\n",
              "    <tr>\n",
              "      <th>53360</th>\n",
              "      <td>A3OI7ZGH6WZJ5G</td>\n",
              "      <td>0006641040</td>\n",
              "      <td>Mary Jane Rogers \"Maedchen\"</td>\n",
              "      <td>1293840000</td>\n",
              "      <td>5</td>\n",
              "      <td>author wrote wild thing carol king wrote great...</td>\n",
              "      <td>2</td>\n",
              "    </tr>\n",
              "    <tr>\n",
              "      <th>26134</th>\n",
              "      <td>A2BEAAU6N7K8GD</td>\n",
              "      <td>B000052Y74</td>\n",
              "      <td>Silne30</td>\n",
              "      <td>1350345600</td>\n",
              "      <td>4</td>\n",
              "      <td>describ minti help milddri mouth provid refres...</td>\n",
              "      <td>2</td>\n",
              "    </tr>\n",
              "    <tr>\n",
              "      <th>19211</th>\n",
              "      <td>A1YVJENMZL29O7</td>\n",
              "      <td>B00005344V</td>\n",
              "      <td>R. Meuli</td>\n",
              "      <td>1282348800</td>\n",
              "      <td>5</td>\n",
              "      <td>product awesom help anyon asthma breath diffic...</td>\n",
              "      <td>3</td>\n",
              "    </tr>\n",
              "    <tr>\n",
              "      <th>473</th>\n",
              "      <td>A10K7E9F0THV3</td>\n",
              "      <td>B0000535LF</td>\n",
              "      <td>Carol E. White</td>\n",
              "      <td>1315180800</td>\n",
              "      <td>5</td>\n",
              "      <td>naturad total soy meal replac powder advertis ...</td>\n",
              "      <td>4</td>\n",
              "    </tr>\n",
              "    <tr>\n",
              "      <th>41746</th>\n",
              "      <td>A33BL538BKBA0S</td>\n",
              "      <td>B00005C2M3</td>\n",
              "      <td>girlabouttownl33t</td>\n",
              "      <td>1301443200</td>\n",
              "      <td>5</td>\n",
              "      <td>buy much cost effect way sinc lot make great u...</td>\n",
              "      <td>2</td>\n",
              "    </tr>\n",
              "  </tbody>\n",
              "</table>\n",
              "</div>"
            ],
            "text/plain": [
              "               UserId  ... COUNT(*)\n",
              "53360  A3OI7ZGH6WZJ5G  ...        2\n",
              "26134  A2BEAAU6N7K8GD  ...        2\n",
              "19211  A1YVJENMZL29O7  ...        3\n",
              "473     A10K7E9F0THV3  ...        4\n",
              "41746  A33BL538BKBA0S  ...        2\n",
              "\n",
              "[5 rows x 7 columns]"
            ]
          },
          "metadata": {
            "tags": []
          },
          "execution_count": 87
        }
      ]
    }
  ]
}