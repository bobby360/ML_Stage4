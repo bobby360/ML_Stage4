{
  "nbformat": 4,
  "nbformat_minor": 0,
  "metadata": {
    "colab": {
      "name": "Stage4.ipynb",
      "provenance": [],
      "collapsed_sections": [],
      "include_colab_link": true
    },
    "kernelspec": {
      "name": "python3",
      "display_name": "Python 3"
    }
  },
  "cells": [
    {
      "cell_type": "markdown",
      "metadata": {
        "id": "view-in-github",
        "colab_type": "text"
      },
      "source": [
        "<a href=\"https://colab.research.google.com/github/bobby360/ML_Stage4/blob/master/Stage4.ipynb\" target=\"_parent\"><img src=\"https://colab.research.google.com/assets/colab-badge.svg\" alt=\"Open In Colab\"/></a>"
      ]
    },
    {
      "cell_type": "markdown",
      "metadata": {
        "id": "EqnkJ3lXN2x4",
        "colab_type": "text"
      },
      "source": [
        "Setting up kaggle."
      ]
    },
    {
      "cell_type": "code",
      "metadata": {
        "id": "24iY5dPnXUy0",
        "colab_type": "code",
        "colab": {
          "base_uri": "https://localhost:8080/",
          "height": 214
        },
        "outputId": "8810fcb4-8123-43b6-b12e-19e6a55d8d90"
      },
      "source": [
        "#Setting up Kaggle\n",
        "!pip install kaggle\n",
        "!mkdir .kaggle\n",
        "import json\n",
        "token = {\"username\":\"bobbyml\",\"key\":\"ac9a2a8daab26dce1c864312a6705acf\"}\n",
        "with open('/content/.kaggle/kaggle.json', 'w') as file:\n",
        "    json.dump(token, file)"
      ],
      "execution_count": 11,
      "outputs": [
        {
          "output_type": "stream",
          "text": [
            "Requirement already satisfied: kaggle in /usr/local/lib/python3.6/dist-packages (1.5.6)\n",
            "Requirement already satisfied: python-dateutil in /usr/local/lib/python3.6/dist-packages (from kaggle) (2.5.3)\n",
            "Requirement already satisfied: tqdm in /usr/local/lib/python3.6/dist-packages (from kaggle) (4.28.1)\n",
            "Requirement already satisfied: python-slugify in /usr/local/lib/python3.6/dist-packages (from kaggle) (3.0.4)\n",
            "Requirement already satisfied: certifi in /usr/local/lib/python3.6/dist-packages (from kaggle) (2019.9.11)\n",
            "Requirement already satisfied: six>=1.10 in /usr/local/lib/python3.6/dist-packages (from kaggle) (1.12.0)\n",
            "Requirement already satisfied: urllib3<1.25,>=1.21.1 in /usr/local/lib/python3.6/dist-packages (from kaggle) (1.24.3)\n",
            "Requirement already satisfied: requests in /usr/local/lib/python3.6/dist-packages (from kaggle) (2.21.0)\n",
            "Requirement already satisfied: text-unidecode>=1.3 in /usr/local/lib/python3.6/dist-packages (from python-slugify->kaggle) (1.3)\n",
            "Requirement already satisfied: chardet<3.1.0,>=3.0.2 in /usr/local/lib/python3.6/dist-packages (from requests->kaggle) (3.0.4)\n",
            "Requirement already satisfied: idna<2.9,>=2.5 in /usr/local/lib/python3.6/dist-packages (from requests->kaggle) (2.8)\n",
            "mkdir: cannot create directory ‘.kaggle’: File exists\n"
          ],
          "name": "stdout"
        }
      ]
    },
    {
      "cell_type": "code",
      "metadata": {
        "id": "alsUmKMaZdAt",
        "colab_type": "code",
        "colab": {}
      },
      "source": [
        "!cp /content/.kaggle/kaggle.json ~/.kaggle/kaggle.json"
      ],
      "execution_count": 0,
      "outputs": []
    },
    {
      "cell_type": "code",
      "metadata": {
        "id": "jNa8vzIlXPl1",
        "colab_type": "code",
        "colab": {
          "base_uri": "https://localhost:8080/",
          "height": 49
        },
        "outputId": "b53d16c9-041e-4ea0-d8fa-ebe02b1611bb"
      },
      "source": [
        "!kaggle config set -n path -v{/content}"
      ],
      "execution_count": 9,
      "outputs": [
        {
          "output_type": "stream",
          "text": [
            "Warning: Your Kaggle API key is readable by other users on this system! To fix this, you can run 'chmod 600 /root/.kaggle/kaggle.json'\n",
            "- path is now set to: {/content}\n"
          ],
          "name": "stdout"
        }
      ]
    },
    {
      "cell_type": "code",
      "metadata": {
        "id": "gWp6-uE0fRbo",
        "colab_type": "code",
        "colab": {
          "base_uri": "https://localhost:8080/",
          "height": 82
        },
        "outputId": "9e7d488f-bad0-44bd-b8fb-6139089a8f41"
      },
      "source": [
        "#Downloading the dataset\n",
        "!kaggle datasets download -d snap/amazon-fine-food-reviews -p /content"
      ],
      "execution_count": 10,
      "outputs": [
        {
          "output_type": "stream",
          "text": [
            "Warning: Your Kaggle API key is readable by other users on this system! To fix this, you can run 'chmod 600 /root/.kaggle/kaggle.json'\n",
            "Downloading amazon-fine-food-reviews.zip to /content\n",
            " 96% 233M/242M [00:04<00:00, 66.5MB/s]\n",
            "100% 242M/242M [00:04<00:00, 52.0MB/s]\n"
          ],
          "name": "stdout"
        }
      ]
    },
    {
      "cell_type": "code",
      "metadata": {
        "id": "zb5OHBxFjk1j",
        "colab_type": "code",
        "colab": {
          "base_uri": "https://localhost:8080/",
          "height": 82
        },
        "outputId": "b12ada06-165c-41d1-8c99-651ac380ddca"
      },
      "source": [
        "#Unzipping\n",
        "!unzip \\*.zip"
      ],
      "execution_count": 12,
      "outputs": [
        {
          "output_type": "stream",
          "text": [
            "Archive:  amazon-fine-food-reviews.zip\n",
            "  inflating: Reviews.csv             \n",
            "  inflating: database.sqlite         \n",
            "  inflating: hashes.txt              \n"
          ],
          "name": "stdout"
        }
      ]
    },
    {
      "cell_type": "code",
      "metadata": {
        "id": "9sKe5yFzj-Na",
        "colab_type": "code",
        "colab": {}
      },
      "source": [
        "import pandas as pd\n",
        "import numpy\n",
        "import sqlite3"
      ],
      "execution_count": 0,
      "outputs": []
    },
    {
      "cell_type": "markdown",
      "metadata": {
        "id": "Z2JE2OJxlXZk",
        "colab_type": "text"
      },
      "source": [
        "### **TASK 1 and 2: filtering only positive and negative reviews i.e. not taking into consideration those reviews with Score=3; Produce a schema of user id, product id, profile name, time, score, text and count where count is greater than one.**"
      ]
    },
    {
      "cell_type": "code",
      "metadata": {
        "id": "9o075hAklnnZ",
        "colab_type": "code",
        "colab": {
          "base_uri": "https://localhost:8080/",
          "height": 201
        },
        "outputId": "28ba26fd-264f-4678-e8e2-e92b902b72aa"
      },
      "source": [
        "# Positive review Score > 3, Negative review Score < 3\n",
        "conn = sqlite3.connect(\"database.sqlite\")\n",
        "\n",
        "df = pd.read_sql_query(\"\"\"select UserId, ProductId, \n",
        "                          ProfileName, Time,\n",
        "                          Score, Text, COUNT(*)\n",
        "                          FROM reviews\n",
        "                          WHERE Score != 3\n",
        "                          GROUP BY UserId\n",
        "                          HAVING COUNT(*) > 1\"\"\", conn)\n",
        "a = df.head()\n",
        "df.head()"
      ],
      "execution_count": 15,
      "outputs": [
        {
          "output_type": "execute_result",
          "data": {
            "text/html": [
              "<div>\n",
              "<style scoped>\n",
              "    .dataframe tbody tr th:only-of-type {\n",
              "        vertical-align: middle;\n",
              "    }\n",
              "\n",
              "    .dataframe tbody tr th {\n",
              "        vertical-align: top;\n",
              "    }\n",
              "\n",
              "    .dataframe thead th {\n",
              "        text-align: right;\n",
              "    }\n",
              "</style>\n",
              "<table border=\"1\" class=\"dataframe\">\n",
              "  <thead>\n",
              "    <tr style=\"text-align: right;\">\n",
              "      <th></th>\n",
              "      <th>UserId</th>\n",
              "      <th>ProductId</th>\n",
              "      <th>ProfileName</th>\n",
              "      <th>Time</th>\n",
              "      <th>Score</th>\n",
              "      <th>Text</th>\n",
              "      <th>COUNT(*)</th>\n",
              "    </tr>\n",
              "  </thead>\n",
              "  <tbody>\n",
              "    <tr>\n",
              "      <th>0</th>\n",
              "      <td>#oc-R115TNMSPFT9I7</td>\n",
              "      <td>B007Y59HVM</td>\n",
              "      <td>Breyton</td>\n",
              "      <td>1331510400</td>\n",
              "      <td>2</td>\n",
              "      <td>Overall its just OK when considering the price...</td>\n",
              "      <td>2</td>\n",
              "    </tr>\n",
              "    <tr>\n",
              "      <th>1</th>\n",
              "      <td>#oc-R11D9D7SHXIJB9</td>\n",
              "      <td>B005HG9ET0</td>\n",
              "      <td>Louis E. Emory \"hoppy\"</td>\n",
              "      <td>1342396800</td>\n",
              "      <td>5</td>\n",
              "      <td>My wife has recurring extreme muscle spasms, u...</td>\n",
              "      <td>3</td>\n",
              "    </tr>\n",
              "    <tr>\n",
              "      <th>2</th>\n",
              "      <td>#oc-R11DNU2NBKQ23Z</td>\n",
              "      <td>B007Y59HVM</td>\n",
              "      <td>Kim Cieszykowski</td>\n",
              "      <td>1348531200</td>\n",
              "      <td>1</td>\n",
              "      <td>This coffee is horrible and unfortunately not ...</td>\n",
              "      <td>2</td>\n",
              "    </tr>\n",
              "    <tr>\n",
              "      <th>3</th>\n",
              "      <td>#oc-R11O5J5ZVQE25C</td>\n",
              "      <td>B005HG9ET0</td>\n",
              "      <td>Penguin Chick</td>\n",
              "      <td>1346889600</td>\n",
              "      <td>5</td>\n",
              "      <td>This will be the bottle that you grab from the...</td>\n",
              "      <td>3</td>\n",
              "    </tr>\n",
              "    <tr>\n",
              "      <th>4</th>\n",
              "      <td>#oc-R12KPBODL2B5ZD</td>\n",
              "      <td>B007OSBE1U</td>\n",
              "      <td>Christopher P. Presta</td>\n",
              "      <td>1348617600</td>\n",
              "      <td>1</td>\n",
              "      <td>I didnt like this coffee. Instead of telling y...</td>\n",
              "      <td>2</td>\n",
              "    </tr>\n",
              "  </tbody>\n",
              "</table>\n",
              "</div>"
            ],
            "text/plain": [
              "               UserId  ... COUNT(*)\n",
              "0  #oc-R115TNMSPFT9I7  ...        2\n",
              "1  #oc-R11D9D7SHXIJB9  ...        3\n",
              "2  #oc-R11DNU2NBKQ23Z  ...        2\n",
              "3  #oc-R11O5J5ZVQE25C  ...        3\n",
              "4  #oc-R12KPBODL2B5ZD  ...        2\n",
              "\n",
              "[5 rows x 7 columns]"
            ]
          },
          "metadata": {
            "tags": []
          },
          "execution_count": 15
        }
      ]
    },
    {
      "cell_type": "markdown",
      "metadata": {
        "id": "BqitX6YanyvO",
        "colab_type": "text"
      },
      "source": [
        "### **TASK 3: Sort product id in ascending order and deduplicate data.**"
      ]
    },
    {
      "cell_type": "code",
      "metadata": {
        "id": "8pYpyYTQoAWl",
        "colab_type": "code",
        "colab": {
          "base_uri": "https://localhost:8080/",
          "height": 201
        },
        "outputId": "9852a36c-0b32-4ff2-faf1-2eae555df56c"
      },
      "source": [
        "df.sort_values('ProductId', inplace= True)\n",
        "df.drop_duplicates(subset =\"ProductId\", \n",
        "                     keep = False, inplace = True)\n",
        "df.head()"
      ],
      "execution_count": 16,
      "outputs": [
        {
          "output_type": "execute_result",
          "data": {
            "text/html": [
              "<div>\n",
              "<style scoped>\n",
              "    .dataframe tbody tr th:only-of-type {\n",
              "        vertical-align: middle;\n",
              "    }\n",
              "\n",
              "    .dataframe tbody tr th {\n",
              "        vertical-align: top;\n",
              "    }\n",
              "\n",
              "    .dataframe thead th {\n",
              "        text-align: right;\n",
              "    }\n",
              "</style>\n",
              "<table border=\"1\" class=\"dataframe\">\n",
              "  <thead>\n",
              "    <tr style=\"text-align: right;\">\n",
              "      <th></th>\n",
              "      <th>UserId</th>\n",
              "      <th>ProductId</th>\n",
              "      <th>ProfileName</th>\n",
              "      <th>Time</th>\n",
              "      <th>Score</th>\n",
              "      <th>Text</th>\n",
              "      <th>COUNT(*)</th>\n",
              "    </tr>\n",
              "  </thead>\n",
              "  <tbody>\n",
              "    <tr>\n",
              "      <th>53360</th>\n",
              "      <td>A3OI7ZGH6WZJ5G</td>\n",
              "      <td>0006641040</td>\n",
              "      <td>Mary Jane Rogers \"Maedchen\"</td>\n",
              "      <td>1293840000</td>\n",
              "      <td>5</td>\n",
              "      <td>The same author wrote \"Where the Wild Things A...</td>\n",
              "      <td>2</td>\n",
              "    </tr>\n",
              "    <tr>\n",
              "      <th>26134</th>\n",
              "      <td>A2BEAAU6N7K8GD</td>\n",
              "      <td>B000052Y74</td>\n",
              "      <td>Silne30</td>\n",
              "      <td>1350345600</td>\n",
              "      <td>4</td>\n",
              "      <td>It's just as described. Its minty, helps with ...</td>\n",
              "      <td>2</td>\n",
              "    </tr>\n",
              "    <tr>\n",
              "      <th>19211</th>\n",
              "      <td>A1YVJENMZL29O7</td>\n",
              "      <td>B00005344V</td>\n",
              "      <td>R. Meuli</td>\n",
              "      <td>1282348800</td>\n",
              "      <td>5</td>\n",
              "      <td>This product is Awesome and Helpful for anyone...</td>\n",
              "      <td>3</td>\n",
              "    </tr>\n",
              "    <tr>\n",
              "      <th>473</th>\n",
              "      <td>A10K7E9F0THV3</td>\n",
              "      <td>B0000535LF</td>\n",
              "      <td>Carol E. White</td>\n",
              "      <td>1315180800</td>\n",
              "      <td>5</td>\n",
              "      <td>Naturade Total Soy Meal Replacement powder was...</td>\n",
              "      <td>4</td>\n",
              "    </tr>\n",
              "    <tr>\n",
              "      <th>41746</th>\n",
              "      <td>A33BL538BKBA0S</td>\n",
              "      <td>B00005C2M3</td>\n",
              "      <td>girlabouttownl33t</td>\n",
              "      <td>1301443200</td>\n",
              "      <td>5</td>\n",
              "      <td>Buying this much is the most cost effective wa...</td>\n",
              "      <td>2</td>\n",
              "    </tr>\n",
              "  </tbody>\n",
              "</table>\n",
              "</div>"
            ],
            "text/plain": [
              "               UserId  ... COUNT(*)\n",
              "53360  A3OI7ZGH6WZJ5G  ...        2\n",
              "26134  A2BEAAU6N7K8GD  ...        2\n",
              "19211  A1YVJENMZL29O7  ...        3\n",
              "473     A10K7E9F0THV3  ...        4\n",
              "41746  A33BL538BKBA0S  ...        2\n",
              "\n",
              "[5 rows x 7 columns]"
            ]
          },
          "metadata": {
            "tags": []
          },
          "execution_count": 16
        }
      ]
    },
    {
      "cell_type": "markdown",
      "metadata": {
        "id": "_1ZQnGCOrDB-",
        "colab_type": "text"
      },
      "source": [
        "### **TASK 4: How many positive and negative reviews are present in our dataset**"
      ]
    },
    {
      "cell_type": "code",
      "metadata": {
        "id": "O7gwbNb-rUrS",
        "colab_type": "code",
        "colab": {
          "base_uri": "https://localhost:8080/",
          "height": 49
        },
        "outputId": "b59b6833-f99d-46ce-bf7e-f47855fc4f51"
      },
      "source": [
        "# Positive review scores: 4,5; Negative review scores 1,2\n",
        "pos_rev = df['Score'].value_counts()[4] + df['Score'].value_counts()[5]\n",
        "neg_rev = df['Score'].value_counts()[1] + df['Score'].value_counts()[2]\n",
        "\n",
        "print(\"There are \" + str(pos_rev), 'positive reviews in the dataset')\n",
        "print(\"There are \" + str(neg_rev), 'negative reviews in the dataset')"
      ],
      "execution_count": 25,
      "outputs": [
        {
          "output_type": "stream",
          "text": [
            "There are 9949 positive reviews in the dataset\n",
            "There are 1844 negative reviews in the dataset\n"
          ],
          "name": "stdout"
        }
      ]
    },
    {
      "cell_type": "markdown",
      "metadata": {
        "id": "OOID0COIus3g",
        "colab_type": "text"
      },
      "source": [
        "### **TASK 5: Remove the html tags**\n",
        "\n"
      ]
    },
    {
      "cell_type": "code",
      "metadata": {
        "id": "JaFHU0AyvA11",
        "colab_type": "code",
        "colab": {
          "base_uri": "https://localhost:8080/",
          "height": 201
        },
        "outputId": "48512d74-c41d-47bd-b417-ce68ae932c54"
      },
      "source": [
        "from html.parser import HTMLParser\n",
        "\n",
        "class MLStripper(HTMLParser):\n",
        "    def __init__(self):\n",
        "        self.reset()\n",
        "        self.strict = False\n",
        "        self.convert_charrefs= True\n",
        "        self.fed = []\n",
        "    def handle_data(self, d):\n",
        "        self.fed.append(d)\n",
        "    def get_data(self):\n",
        "        return ''.join(self.fed)\n",
        "\n",
        "def strip_tags(html):\n",
        "    s = MLStripper()\n",
        "    s.feed(html)\n",
        "    return s.get_data()\n",
        "  \n",
        "df['Text'] = df['Text'].apply(strip_tags)\n",
        "\n",
        "df.head()"
      ],
      "execution_count": 23,
      "outputs": [
        {
          "output_type": "execute_result",
          "data": {
            "text/html": [
              "<div>\n",
              "<style scoped>\n",
              "    .dataframe tbody tr th:only-of-type {\n",
              "        vertical-align: middle;\n",
              "    }\n",
              "\n",
              "    .dataframe tbody tr th {\n",
              "        vertical-align: top;\n",
              "    }\n",
              "\n",
              "    .dataframe thead th {\n",
              "        text-align: right;\n",
              "    }\n",
              "</style>\n",
              "<table border=\"1\" class=\"dataframe\">\n",
              "  <thead>\n",
              "    <tr style=\"text-align: right;\">\n",
              "      <th></th>\n",
              "      <th>UserId</th>\n",
              "      <th>ProductId</th>\n",
              "      <th>ProfileName</th>\n",
              "      <th>Time</th>\n",
              "      <th>Score</th>\n",
              "      <th>Text</th>\n",
              "      <th>COUNT(*)</th>\n",
              "    </tr>\n",
              "  </thead>\n",
              "  <tbody>\n",
              "    <tr>\n",
              "      <th>53360</th>\n",
              "      <td>A3OI7ZGH6WZJ5G</td>\n",
              "      <td>0006641040</td>\n",
              "      <td>Mary Jane Rogers \"Maedchen\"</td>\n",
              "      <td>1293840000</td>\n",
              "      <td>5</td>\n",
              "      <td>The same author wrote \"Where the Wild Things A...</td>\n",
              "      <td>2</td>\n",
              "    </tr>\n",
              "    <tr>\n",
              "      <th>26134</th>\n",
              "      <td>A2BEAAU6N7K8GD</td>\n",
              "      <td>B000052Y74</td>\n",
              "      <td>Silne30</td>\n",
              "      <td>1350345600</td>\n",
              "      <td>4</td>\n",
              "      <td>It's just as described. Its minty, helps with ...</td>\n",
              "      <td>2</td>\n",
              "    </tr>\n",
              "    <tr>\n",
              "      <th>19211</th>\n",
              "      <td>A1YVJENMZL29O7</td>\n",
              "      <td>B00005344V</td>\n",
              "      <td>R. Meuli</td>\n",
              "      <td>1282348800</td>\n",
              "      <td>5</td>\n",
              "      <td>This product is Awesome and Helpful for anyone...</td>\n",
              "      <td>3</td>\n",
              "    </tr>\n",
              "    <tr>\n",
              "      <th>473</th>\n",
              "      <td>A10K7E9F0THV3</td>\n",
              "      <td>B0000535LF</td>\n",
              "      <td>Carol E. White</td>\n",
              "      <td>1315180800</td>\n",
              "      <td>5</td>\n",
              "      <td>Naturade Total Soy Meal Replacement powder was...</td>\n",
              "      <td>4</td>\n",
              "    </tr>\n",
              "    <tr>\n",
              "      <th>41746</th>\n",
              "      <td>A33BL538BKBA0S</td>\n",
              "      <td>B00005C2M3</td>\n",
              "      <td>girlabouttownl33t</td>\n",
              "      <td>1301443200</td>\n",
              "      <td>5</td>\n",
              "      <td>Buying this much is the most cost effective wa...</td>\n",
              "      <td>2</td>\n",
              "    </tr>\n",
              "  </tbody>\n",
              "</table>\n",
              "</div>"
            ],
            "text/plain": [
              "               UserId  ... COUNT(*)\n",
              "53360  A3OI7ZGH6WZJ5G  ...        2\n",
              "26134  A2BEAAU6N7K8GD  ...        2\n",
              "19211  A1YVJENMZL29O7  ...        3\n",
              "473     A10K7E9F0THV3  ...        4\n",
              "41746  A33BL538BKBA0S  ...        2\n",
              "\n",
              "[5 rows x 7 columns]"
            ]
          },
          "metadata": {
            "tags": []
          },
          "execution_count": 23
        }
      ]
    },
    {
      "cell_type": "markdown",
      "metadata": {
        "id": "BqcRAm1Av_mI",
        "colab_type": "text"
      },
      "source": [
        "### **TASK 6: Remove any punctuations or limited set of special characters**"
      ]
    },
    {
      "cell_type": "code",
      "metadata": {
        "id": "VeAAanq0wWE0",
        "colab_type": "code",
        "colab": {
          "base_uri": "https://localhost:8080/",
          "height": 201
        },
        "outputId": "89d656eb-8478-4739-a90b-d14955c0d730"
      },
      "source": [
        "import re\n",
        "\n",
        "def no_symbols(text):\n",
        "  return re.sub(\"[^A-z0-9\\s]+\", \"\", text)\n",
        "  \n",
        "df['Text'] = df['Text'].apply(no_symbols)\n",
        "\n",
        "df.head()"
      ],
      "execution_count": 26,
      "outputs": [
        {
          "output_type": "execute_result",
          "data": {
            "text/html": [
              "<div>\n",
              "<style scoped>\n",
              "    .dataframe tbody tr th:only-of-type {\n",
              "        vertical-align: middle;\n",
              "    }\n",
              "\n",
              "    .dataframe tbody tr th {\n",
              "        vertical-align: top;\n",
              "    }\n",
              "\n",
              "    .dataframe thead th {\n",
              "        text-align: right;\n",
              "    }\n",
              "</style>\n",
              "<table border=\"1\" class=\"dataframe\">\n",
              "  <thead>\n",
              "    <tr style=\"text-align: right;\">\n",
              "      <th></th>\n",
              "      <th>UserId</th>\n",
              "      <th>ProductId</th>\n",
              "      <th>ProfileName</th>\n",
              "      <th>Time</th>\n",
              "      <th>Score</th>\n",
              "      <th>Text</th>\n",
              "      <th>COUNT(*)</th>\n",
              "    </tr>\n",
              "  </thead>\n",
              "  <tbody>\n",
              "    <tr>\n",
              "      <th>53360</th>\n",
              "      <td>A3OI7ZGH6WZJ5G</td>\n",
              "      <td>0006641040</td>\n",
              "      <td>Mary Jane Rogers \"Maedchen\"</td>\n",
              "      <td>1293840000</td>\n",
              "      <td>5</td>\n",
              "      <td>The same author wrote Where the Wild Things Ar...</td>\n",
              "      <td>2</td>\n",
              "    </tr>\n",
              "    <tr>\n",
              "      <th>26134</th>\n",
              "      <td>A2BEAAU6N7K8GD</td>\n",
              "      <td>B000052Y74</td>\n",
              "      <td>Silne30</td>\n",
              "      <td>1350345600</td>\n",
              "      <td>4</td>\n",
              "      <td>Its just as described Its minty helps with my ...</td>\n",
              "      <td>2</td>\n",
              "    </tr>\n",
              "    <tr>\n",
              "      <th>19211</th>\n",
              "      <td>A1YVJENMZL29O7</td>\n",
              "      <td>B00005344V</td>\n",
              "      <td>R. Meuli</td>\n",
              "      <td>1282348800</td>\n",
              "      <td>5</td>\n",
              "      <td>This product is Awesome and Helpful for anyone...</td>\n",
              "      <td>3</td>\n",
              "    </tr>\n",
              "    <tr>\n",
              "      <th>473</th>\n",
              "      <td>A10K7E9F0THV3</td>\n",
              "      <td>B0000535LF</td>\n",
              "      <td>Carol E. White</td>\n",
              "      <td>1315180800</td>\n",
              "      <td>5</td>\n",
              "      <td>Naturade Total Soy Meal Replacement powder was...</td>\n",
              "      <td>4</td>\n",
              "    </tr>\n",
              "    <tr>\n",
              "      <th>41746</th>\n",
              "      <td>A33BL538BKBA0S</td>\n",
              "      <td>B00005C2M3</td>\n",
              "      <td>girlabouttownl33t</td>\n",
              "      <td>1301443200</td>\n",
              "      <td>5</td>\n",
              "      <td>Buying this much is the most cost effective wa...</td>\n",
              "      <td>2</td>\n",
              "    </tr>\n",
              "  </tbody>\n",
              "</table>\n",
              "</div>"
            ],
            "text/plain": [
              "               UserId  ... COUNT(*)\n",
              "53360  A3OI7ZGH6WZJ5G  ...        2\n",
              "26134  A2BEAAU6N7K8GD  ...        2\n",
              "19211  A1YVJENMZL29O7  ...        3\n",
              "473     A10K7E9F0THV3  ...        4\n",
              "41746  A33BL538BKBA0S  ...        2\n",
              "\n",
              "[5 rows x 7 columns]"
            ]
          },
          "metadata": {
            "tags": []
          },
          "execution_count": 26
        }
      ]
    },
    {
      "cell_type": "markdown",
      "metadata": {
        "id": "WFQ_nVDfxszw",
        "colab_type": "text"
      },
      "source": [
        "### **TASK 7: Check if the word is made up of English letters and is not alpha-numeric**"
      ]
    },
    {
      "cell_type": "code",
      "metadata": {
        "id": "Ut18rx0xyd4K",
        "colab_type": "code",
        "colab": {
          "base_uri": "https://localhost:8080/",
          "height": 201
        },
        "outputId": "2ee4f2a1-0d12-4e27-c6ce-5ad8db470b99"
      },
      "source": [
        "def letters_only(text):\n",
        "\treturn re.sub(\"[^a-zA-Z\\s]\", \"\", text)\n",
        "\n",
        "df['Text'] = df['Text'].apply(letters_only)\n",
        "\n",
        "df.head()"
      ],
      "execution_count": 27,
      "outputs": [
        {
          "output_type": "execute_result",
          "data": {
            "text/html": [
              "<div>\n",
              "<style scoped>\n",
              "    .dataframe tbody tr th:only-of-type {\n",
              "        vertical-align: middle;\n",
              "    }\n",
              "\n",
              "    .dataframe tbody tr th {\n",
              "        vertical-align: top;\n",
              "    }\n",
              "\n",
              "    .dataframe thead th {\n",
              "        text-align: right;\n",
              "    }\n",
              "</style>\n",
              "<table border=\"1\" class=\"dataframe\">\n",
              "  <thead>\n",
              "    <tr style=\"text-align: right;\">\n",
              "      <th></th>\n",
              "      <th>UserId</th>\n",
              "      <th>ProductId</th>\n",
              "      <th>ProfileName</th>\n",
              "      <th>Time</th>\n",
              "      <th>Score</th>\n",
              "      <th>Text</th>\n",
              "      <th>COUNT(*)</th>\n",
              "    </tr>\n",
              "  </thead>\n",
              "  <tbody>\n",
              "    <tr>\n",
              "      <th>53360</th>\n",
              "      <td>A3OI7ZGH6WZJ5G</td>\n",
              "      <td>0006641040</td>\n",
              "      <td>Mary Jane Rogers \"Maedchen\"</td>\n",
              "      <td>1293840000</td>\n",
              "      <td>5</td>\n",
              "      <td>The same author wrote Where the Wild Things Ar...</td>\n",
              "      <td>2</td>\n",
              "    </tr>\n",
              "    <tr>\n",
              "      <th>26134</th>\n",
              "      <td>A2BEAAU6N7K8GD</td>\n",
              "      <td>B000052Y74</td>\n",
              "      <td>Silne30</td>\n",
              "      <td>1350345600</td>\n",
              "      <td>4</td>\n",
              "      <td>Its just as described Its minty helps with my ...</td>\n",
              "      <td>2</td>\n",
              "    </tr>\n",
              "    <tr>\n",
              "      <th>19211</th>\n",
              "      <td>A1YVJENMZL29O7</td>\n",
              "      <td>B00005344V</td>\n",
              "      <td>R. Meuli</td>\n",
              "      <td>1282348800</td>\n",
              "      <td>5</td>\n",
              "      <td>This product is Awesome and Helpful for anyone...</td>\n",
              "      <td>3</td>\n",
              "    </tr>\n",
              "    <tr>\n",
              "      <th>473</th>\n",
              "      <td>A10K7E9F0THV3</td>\n",
              "      <td>B0000535LF</td>\n",
              "      <td>Carol E. White</td>\n",
              "      <td>1315180800</td>\n",
              "      <td>5</td>\n",
              "      <td>Naturade Total Soy Meal Replacement powder was...</td>\n",
              "      <td>4</td>\n",
              "    </tr>\n",
              "    <tr>\n",
              "      <th>41746</th>\n",
              "      <td>A33BL538BKBA0S</td>\n",
              "      <td>B00005C2M3</td>\n",
              "      <td>girlabouttownl33t</td>\n",
              "      <td>1301443200</td>\n",
              "      <td>5</td>\n",
              "      <td>Buying this much is the most cost effective wa...</td>\n",
              "      <td>2</td>\n",
              "    </tr>\n",
              "  </tbody>\n",
              "</table>\n",
              "</div>"
            ],
            "text/plain": [
              "               UserId  ... COUNT(*)\n",
              "53360  A3OI7ZGH6WZJ5G  ...        2\n",
              "26134  A2BEAAU6N7K8GD  ...        2\n",
              "19211  A1YVJENMZL29O7  ...        3\n",
              "473     A10K7E9F0THV3  ...        4\n",
              "41746  A33BL538BKBA0S  ...        2\n",
              "\n",
              "[5 rows x 7 columns]"
            ]
          },
          "metadata": {
            "tags": []
          },
          "execution_count": 27
        }
      ]
    },
    {
      "cell_type": "markdown",
      "metadata": {
        "id": "VOuYb6lcz_K-",
        "colab_type": "text"
      },
      "source": [
        "### **TASK 8: Check to see if the length of the word is greater than 2**"
      ]
    },
    {
      "cell_type": "code",
      "metadata": {
        "id": "XAx2CW2T0KvB",
        "colab_type": "code",
        "colab": {
          "base_uri": "https://localhost:8080/",
          "height": 201
        },
        "outputId": "e4911e67-37c8-4adc-8ee0-bfc4b0e4e7a6"
      },
      "source": [
        "def check_length(text):\n",
        "  text = text.split()\n",
        "  contain = []\n",
        "  \n",
        "  for word in text:\n",
        "    if len(word) > 2:\n",
        "      contain.append(word)\n",
        "      \n",
        "  final = ' '.join(contain)\n",
        "  return final\n",
        "      \n",
        "  \n",
        "df['Text'] = df['Text'].apply(check_length)\n",
        "\n",
        "df.head()"
      ],
      "execution_count": 28,
      "outputs": [
        {
          "output_type": "execute_result",
          "data": {
            "text/html": [
              "<div>\n",
              "<style scoped>\n",
              "    .dataframe tbody tr th:only-of-type {\n",
              "        vertical-align: middle;\n",
              "    }\n",
              "\n",
              "    .dataframe tbody tr th {\n",
              "        vertical-align: top;\n",
              "    }\n",
              "\n",
              "    .dataframe thead th {\n",
              "        text-align: right;\n",
              "    }\n",
              "</style>\n",
              "<table border=\"1\" class=\"dataframe\">\n",
              "  <thead>\n",
              "    <tr style=\"text-align: right;\">\n",
              "      <th></th>\n",
              "      <th>UserId</th>\n",
              "      <th>ProductId</th>\n",
              "      <th>ProfileName</th>\n",
              "      <th>Time</th>\n",
              "      <th>Score</th>\n",
              "      <th>Text</th>\n",
              "      <th>COUNT(*)</th>\n",
              "    </tr>\n",
              "  </thead>\n",
              "  <tbody>\n",
              "    <tr>\n",
              "      <th>53360</th>\n",
              "      <td>A3OI7ZGH6WZJ5G</td>\n",
              "      <td>0006641040</td>\n",
              "      <td>Mary Jane Rogers \"Maedchen\"</td>\n",
              "      <td>1293840000</td>\n",
              "      <td>5</td>\n",
              "      <td>The same author wrote Where the Wild Things Ar...</td>\n",
              "      <td>2</td>\n",
              "    </tr>\n",
              "    <tr>\n",
              "      <th>26134</th>\n",
              "      <td>A2BEAAU6N7K8GD</td>\n",
              "      <td>B000052Y74</td>\n",
              "      <td>Silne30</td>\n",
              "      <td>1350345600</td>\n",
              "      <td>4</td>\n",
              "      <td>Its just described Its minty helps with milddr...</td>\n",
              "      <td>2</td>\n",
              "    </tr>\n",
              "    <tr>\n",
              "      <th>19211</th>\n",
              "      <td>A1YVJENMZL29O7</td>\n",
              "      <td>B00005344V</td>\n",
              "      <td>R. Meuli</td>\n",
              "      <td>1282348800</td>\n",
              "      <td>5</td>\n",
              "      <td>This product Awesome and Helpful for anyone wi...</td>\n",
              "      <td>3</td>\n",
              "    </tr>\n",
              "    <tr>\n",
              "      <th>473</th>\n",
              "      <td>A10K7E9F0THV3</td>\n",
              "      <td>B0000535LF</td>\n",
              "      <td>Carol E. White</td>\n",
              "      <td>1315180800</td>\n",
              "      <td>5</td>\n",
              "      <td>Naturade Total Soy Meal Replacement powder was...</td>\n",
              "      <td>4</td>\n",
              "    </tr>\n",
              "    <tr>\n",
              "      <th>41746</th>\n",
              "      <td>A33BL538BKBA0S</td>\n",
              "      <td>B00005C2M3</td>\n",
              "      <td>girlabouttownl33t</td>\n",
              "      <td>1301443200</td>\n",
              "      <td>5</td>\n",
              "      <td>Buying this much the most cost effective way a...</td>\n",
              "      <td>2</td>\n",
              "    </tr>\n",
              "  </tbody>\n",
              "</table>\n",
              "</div>"
            ],
            "text/plain": [
              "               UserId  ... COUNT(*)\n",
              "53360  A3OI7ZGH6WZJ5G  ...        2\n",
              "26134  A2BEAAU6N7K8GD  ...        2\n",
              "19211  A1YVJENMZL29O7  ...        3\n",
              "473     A10K7E9F0THV3  ...        4\n",
              "41746  A33BL538BKBA0S  ...        2\n",
              "\n",
              "[5 rows x 7 columns]"
            ]
          },
          "metadata": {
            "tags": []
          },
          "execution_count": 28
        }
      ]
    },
    {
      "cell_type": "markdown",
      "metadata": {
        "id": "-pY4TKUW1OnD",
        "colab_type": "text"
      },
      "source": [
        "### **TASK 9: Convert the word to lowercase**"
      ]
    },
    {
      "cell_type": "code",
      "metadata": {
        "id": "DHvoAfIB1dXN",
        "colab_type": "code",
        "colab": {
          "base_uri": "https://localhost:8080/",
          "height": 201
        },
        "outputId": "6f3642aa-d98f-4eb2-c929-1119cb8a4322"
      },
      "source": [
        "def lower_case(text):\n",
        "  return text.lower()\n",
        "\n",
        "df['Text'] = df['Text'].apply(lower_case)\n",
        "\n",
        "df.head()"
      ],
      "execution_count": 29,
      "outputs": [
        {
          "output_type": "execute_result",
          "data": {
            "text/html": [
              "<div>\n",
              "<style scoped>\n",
              "    .dataframe tbody tr th:only-of-type {\n",
              "        vertical-align: middle;\n",
              "    }\n",
              "\n",
              "    .dataframe tbody tr th {\n",
              "        vertical-align: top;\n",
              "    }\n",
              "\n",
              "    .dataframe thead th {\n",
              "        text-align: right;\n",
              "    }\n",
              "</style>\n",
              "<table border=\"1\" class=\"dataframe\">\n",
              "  <thead>\n",
              "    <tr style=\"text-align: right;\">\n",
              "      <th></th>\n",
              "      <th>UserId</th>\n",
              "      <th>ProductId</th>\n",
              "      <th>ProfileName</th>\n",
              "      <th>Time</th>\n",
              "      <th>Score</th>\n",
              "      <th>Text</th>\n",
              "      <th>COUNT(*)</th>\n",
              "    </tr>\n",
              "  </thead>\n",
              "  <tbody>\n",
              "    <tr>\n",
              "      <th>53360</th>\n",
              "      <td>A3OI7ZGH6WZJ5G</td>\n",
              "      <td>0006641040</td>\n",
              "      <td>Mary Jane Rogers \"Maedchen\"</td>\n",
              "      <td>1293840000</td>\n",
              "      <td>5</td>\n",
              "      <td>the same author wrote where the wild things ar...</td>\n",
              "      <td>2</td>\n",
              "    </tr>\n",
              "    <tr>\n",
              "      <th>26134</th>\n",
              "      <td>A2BEAAU6N7K8GD</td>\n",
              "      <td>B000052Y74</td>\n",
              "      <td>Silne30</td>\n",
              "      <td>1350345600</td>\n",
              "      <td>4</td>\n",
              "      <td>its just described its minty helps with milddr...</td>\n",
              "      <td>2</td>\n",
              "    </tr>\n",
              "    <tr>\n",
              "      <th>19211</th>\n",
              "      <td>A1YVJENMZL29O7</td>\n",
              "      <td>B00005344V</td>\n",
              "      <td>R. Meuli</td>\n",
              "      <td>1282348800</td>\n",
              "      <td>5</td>\n",
              "      <td>this product awesome and helpful for anyone wi...</td>\n",
              "      <td>3</td>\n",
              "    </tr>\n",
              "    <tr>\n",
              "      <th>473</th>\n",
              "      <td>A10K7E9F0THV3</td>\n",
              "      <td>B0000535LF</td>\n",
              "      <td>Carol E. White</td>\n",
              "      <td>1315180800</td>\n",
              "      <td>5</td>\n",
              "      <td>naturade total soy meal replacement powder was...</td>\n",
              "      <td>4</td>\n",
              "    </tr>\n",
              "    <tr>\n",
              "      <th>41746</th>\n",
              "      <td>A33BL538BKBA0S</td>\n",
              "      <td>B00005C2M3</td>\n",
              "      <td>girlabouttownl33t</td>\n",
              "      <td>1301443200</td>\n",
              "      <td>5</td>\n",
              "      <td>buying this much the most cost effective way a...</td>\n",
              "      <td>2</td>\n",
              "    </tr>\n",
              "  </tbody>\n",
              "</table>\n",
              "</div>"
            ],
            "text/plain": [
              "               UserId  ... COUNT(*)\n",
              "53360  A3OI7ZGH6WZJ5G  ...        2\n",
              "26134  A2BEAAU6N7K8GD  ...        2\n",
              "19211  A1YVJENMZL29O7  ...        3\n",
              "473     A10K7E9F0THV3  ...        4\n",
              "41746  A33BL538BKBA0S  ...        2\n",
              "\n",
              "[5 rows x 7 columns]"
            ]
          },
          "metadata": {
            "tags": []
          },
          "execution_count": 29
        }
      ]
    },
    {
      "cell_type": "markdown",
      "metadata": {
        "id": "zswUpYlu24h4",
        "colab_type": "text"
      },
      "source": [
        "### **TASK 10: Remove Stopwords**"
      ]
    },
    {
      "cell_type": "code",
      "metadata": {
        "id": "6bmX9Yb422YA",
        "colab_type": "code",
        "colab": {
          "base_uri": "https://localhost:8080/",
          "height": 201
        },
        "outputId": "083a0b7f-8a47-4b57-9b11-82f10d350fde"
      },
      "source": [
        "import nltk\n",
        "\n",
        "def remove_stopwords(text):\n",
        "  try:\n",
        "    from nltk.corpus import stopwords\n",
        "    from nltk.tokenize import word_tokenize\n",
        "    stop_words = set(stopwords.words('english'))\n",
        "    word_tokens = word_tokenize(text)\n",
        "    filtered_sentence = [w for w in word_tokens if not w in stop_words]\n",
        "    \n",
        "  except:\n",
        "    nltk.download(\"stopwords\")\n",
        "    nltk.download(\"punkt\")\n",
        "    return remove_stopwords(text)\n",
        "  \n",
        "  return \" \".join(filtered_sentence)\n",
        "\n",
        "df['Text'] = df['Text'].apply(remove_stopwords)\n",
        "\n",
        "df.head()"
      ],
      "execution_count": 31,
      "outputs": [
        {
          "output_type": "execute_result",
          "data": {
            "text/html": [
              "<div>\n",
              "<style scoped>\n",
              "    .dataframe tbody tr th:only-of-type {\n",
              "        vertical-align: middle;\n",
              "    }\n",
              "\n",
              "    .dataframe tbody tr th {\n",
              "        vertical-align: top;\n",
              "    }\n",
              "\n",
              "    .dataframe thead th {\n",
              "        text-align: right;\n",
              "    }\n",
              "</style>\n",
              "<table border=\"1\" class=\"dataframe\">\n",
              "  <thead>\n",
              "    <tr style=\"text-align: right;\">\n",
              "      <th></th>\n",
              "      <th>UserId</th>\n",
              "      <th>ProductId</th>\n",
              "      <th>ProfileName</th>\n",
              "      <th>Time</th>\n",
              "      <th>Score</th>\n",
              "      <th>Text</th>\n",
              "      <th>COUNT(*)</th>\n",
              "    </tr>\n",
              "  </thead>\n",
              "  <tbody>\n",
              "    <tr>\n",
              "      <th>53360</th>\n",
              "      <td>A3OI7ZGH6WZJ5G</td>\n",
              "      <td>0006641040</td>\n",
              "      <td>Mary Jane Rogers \"Maedchen\"</td>\n",
              "      <td>1293840000</td>\n",
              "      <td>5</td>\n",
              "      <td>author wrote wild things carol king wrote grea...</td>\n",
              "      <td>2</td>\n",
              "    </tr>\n",
              "    <tr>\n",
              "      <th>26134</th>\n",
              "      <td>A2BEAAU6N7K8GD</td>\n",
              "      <td>B000052Y74</td>\n",
              "      <td>Silne30</td>\n",
              "      <td>1350345600</td>\n",
              "      <td>4</td>\n",
              "      <td>described minty helps milddry mouth provides r...</td>\n",
              "      <td>2</td>\n",
              "    </tr>\n",
              "    <tr>\n",
              "      <th>19211</th>\n",
              "      <td>A1YVJENMZL29O7</td>\n",
              "      <td>B00005344V</td>\n",
              "      <td>R. Meuli</td>\n",
              "      <td>1282348800</td>\n",
              "      <td>5</td>\n",
              "      <td>product awesome helpful anyone asthma breathin...</td>\n",
              "      <td>3</td>\n",
              "    </tr>\n",
              "    <tr>\n",
              "      <th>473</th>\n",
              "      <td>A10K7E9F0THV3</td>\n",
              "      <td>B0000535LF</td>\n",
              "      <td>Carol E. White</td>\n",
              "      <td>1315180800</td>\n",
              "      <td>5</td>\n",
              "      <td>naturade total soy meal replacement powder adv...</td>\n",
              "      <td>4</td>\n",
              "    </tr>\n",
              "    <tr>\n",
              "      <th>41746</th>\n",
              "      <td>A33BL538BKBA0S</td>\n",
              "      <td>B00005C2M3</td>\n",
              "      <td>girlabouttownl33t</td>\n",
              "      <td>1301443200</td>\n",
              "      <td>5</td>\n",
              "      <td>buying much cost effective way since lot makes...</td>\n",
              "      <td>2</td>\n",
              "    </tr>\n",
              "  </tbody>\n",
              "</table>\n",
              "</div>"
            ],
            "text/plain": [
              "               UserId  ... COUNT(*)\n",
              "53360  A3OI7ZGH6WZJ5G  ...        2\n",
              "26134  A2BEAAU6N7K8GD  ...        2\n",
              "19211  A1YVJENMZL29O7  ...        3\n",
              "473     A10K7E9F0THV3  ...        4\n",
              "41746  A33BL538BKBA0S  ...        2\n",
              "\n",
              "[5 rows x 7 columns]"
            ]
          },
          "metadata": {
            "tags": []
          },
          "execution_count": 31
        }
      ]
    },
    {
      "cell_type": "markdown",
      "metadata": {
        "id": "2SBrX8W039rm",
        "colab_type": "text"
      },
      "source": [
        "### **TASK 11: Finally Snowball Stemming the word**"
      ]
    },
    {
      "cell_type": "code",
      "metadata": {
        "id": "S15qDWXA4Ivi",
        "colab_type": "code",
        "colab": {
          "base_uri": "https://localhost:8080/",
          "height": 201
        },
        "outputId": "a0ad1ef3-eb1d-49a8-a77b-11b07253f9c2"
      },
      "source": [
        "import nltk\n",
        "from nltk.corpus import stopwords\n",
        "from nltk.stem import SnowballStemmer\n",
        "\n",
        "def stem_thy_words(text):\n",
        "    snowball_stemmer = SnowballStemmer('english')\n",
        "    word_tokens = nltk.word_tokenize(text)\n",
        "    stemmed_word = [snowball_stemmer.stem(word) for word in word_tokens]\n",
        "    return \" \".join(stemmed_word)\n",
        "\n",
        "df['Text'] = df['Text'].apply(stem_thy_words)\n",
        "df.head()"
      ],
      "execution_count": 32,
      "outputs": [
        {
          "output_type": "execute_result",
          "data": {
            "text/html": [
              "<div>\n",
              "<style scoped>\n",
              "    .dataframe tbody tr th:only-of-type {\n",
              "        vertical-align: middle;\n",
              "    }\n",
              "\n",
              "    .dataframe tbody tr th {\n",
              "        vertical-align: top;\n",
              "    }\n",
              "\n",
              "    .dataframe thead th {\n",
              "        text-align: right;\n",
              "    }\n",
              "</style>\n",
              "<table border=\"1\" class=\"dataframe\">\n",
              "  <thead>\n",
              "    <tr style=\"text-align: right;\">\n",
              "      <th></th>\n",
              "      <th>UserId</th>\n",
              "      <th>ProductId</th>\n",
              "      <th>ProfileName</th>\n",
              "      <th>Time</th>\n",
              "      <th>Score</th>\n",
              "      <th>Text</th>\n",
              "      <th>COUNT(*)</th>\n",
              "    </tr>\n",
              "  </thead>\n",
              "  <tbody>\n",
              "    <tr>\n",
              "      <th>53360</th>\n",
              "      <td>A3OI7ZGH6WZJ5G</td>\n",
              "      <td>0006641040</td>\n",
              "      <td>Mary Jane Rogers \"Maedchen\"</td>\n",
              "      <td>1293840000</td>\n",
              "      <td>5</td>\n",
              "      <td>author wrote wild thing carol king wrote great...</td>\n",
              "      <td>2</td>\n",
              "    </tr>\n",
              "    <tr>\n",
              "      <th>26134</th>\n",
              "      <td>A2BEAAU6N7K8GD</td>\n",
              "      <td>B000052Y74</td>\n",
              "      <td>Silne30</td>\n",
              "      <td>1350345600</td>\n",
              "      <td>4</td>\n",
              "      <td>describ minti help milddri mouth provid refres...</td>\n",
              "      <td>2</td>\n",
              "    </tr>\n",
              "    <tr>\n",
              "      <th>19211</th>\n",
              "      <td>A1YVJENMZL29O7</td>\n",
              "      <td>B00005344V</td>\n",
              "      <td>R. Meuli</td>\n",
              "      <td>1282348800</td>\n",
              "      <td>5</td>\n",
              "      <td>product awesom help anyon asthma breath diffic...</td>\n",
              "      <td>3</td>\n",
              "    </tr>\n",
              "    <tr>\n",
              "      <th>473</th>\n",
              "      <td>A10K7E9F0THV3</td>\n",
              "      <td>B0000535LF</td>\n",
              "      <td>Carol E. White</td>\n",
              "      <td>1315180800</td>\n",
              "      <td>5</td>\n",
              "      <td>naturad total soy meal replac powder advertis ...</td>\n",
              "      <td>4</td>\n",
              "    </tr>\n",
              "    <tr>\n",
              "      <th>41746</th>\n",
              "      <td>A33BL538BKBA0S</td>\n",
              "      <td>B00005C2M3</td>\n",
              "      <td>girlabouttownl33t</td>\n",
              "      <td>1301443200</td>\n",
              "      <td>5</td>\n",
              "      <td>buy much cost effect way sinc lot make great u...</td>\n",
              "      <td>2</td>\n",
              "    </tr>\n",
              "  </tbody>\n",
              "</table>\n",
              "</div>"
            ],
            "text/plain": [
              "               UserId  ... COUNT(*)\n",
              "53360  A3OI7ZGH6WZJ5G  ...        2\n",
              "26134  A2BEAAU6N7K8GD  ...        2\n",
              "19211  A1YVJENMZL29O7  ...        3\n",
              "473     A10K7E9F0THV3  ...        4\n",
              "41746  A33BL538BKBA0S  ...        2\n",
              "\n",
              "[5 rows x 7 columns]"
            ]
          },
          "metadata": {
            "tags": []
          },
          "execution_count": 32
        }
      ]
    }
  ]
}